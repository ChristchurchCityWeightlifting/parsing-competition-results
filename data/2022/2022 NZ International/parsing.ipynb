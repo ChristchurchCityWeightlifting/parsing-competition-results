{
 "cells": [
  {
   "cell_type": "code",
   "execution_count": 1,
   "metadata": {},
   "outputs": [],
   "source": [
    "\"\"\"IMPORTANT: MUST RUN CELLS IN ORDER!!\n",
    "    2022 New Zealand International\n",
    "\"\"\"\n",
    "import os\n",
    "import time\n",
    "\n",
    "import boto3\n",
    "\n",
    "from lifter_api import LifterAPI"
   ]
  },
  {
   "cell_type": "code",
   "execution_count": 10,
   "metadata": {},
   "outputs": [
    {
     "name": "stdout",
     "output_type": "stream",
     "text": [
      "connected LIVE\n"
     ]
    }
   ],
   "source": [
    "# authenticate\n",
    "\n",
    "URL = None\n",
    "# URL = \"http://localhost:8000\"\n",
    "\n",
    "auth_token = os.getenv(\"LOCAL_API_TOKEN\")\n",
    "api = LifterAPI(url=URL, auth_token=auth_token)\n",
    "if URL != \"http://localhost:8000\":\n",
    "    auth_token = os.getenv(\"API_TOKEN\")\n",
    "    api = LifterAPI(url=\"https://api.lifter.shivan.xyz\", auth_token=auth_token)\n",
    "    print(\"connected LIVE\")\n",
    "else:\n",
    "    print(\"connected locally\")"
   ]
  },
  {
   "cell_type": "code",
   "execution_count": 12,
   "metadata": {},
   "outputs": [],
   "source": [
    "# Create competition and the sessions\n",
    "# This will also check if the competition already exists by name, and also sessions by name as well.\n",
    "def create_competition(date_start, date_end, competition_name, location):\n",
    "    # search for a competition\n",
    "    current_competitions = {}\n",
    "    next_page = \"page=1\"\n",
    "    while next_page:\n",
    "        competitions = api.competitions(page=int(next_page.split(\"page\")[-1].replace(\"=\", \"\")))\n",
    "        for competition in competitions['results']:\n",
    "            current_competitions[competition['competition_name']] = competition['reference_id']\n",
    "        next_page = competitions['next']\n",
    "\n",
    "    current_competition_names = list(current_competitions.keys())\n",
    "    \n",
    "    if competition_name not in current_competition_names:\n",
    "        print(f\"{competition_name} created.\")\n",
    "        return api.create_competition(date_start=date_start,\n",
    "                            date_end=date_end,\n",
    "                            location=location,\n",
    "                            competition_name=competition_name)\n",
    "    print(f\"ERROR: {competition_name} already exists!\")\n",
    "    return api.get_competition(competition_id=current_competitions[competition_name])\n",
    "\n",
    "def create_competition_and_sessions(competition_data: dict[str: str], sessions_data: list[dict[str, str]]):\n",
    "    \n",
    "\n",
    "    def create_session(competition_id, session_datetime, referee_first, referee_second, referee_third, technical_controller, jury, marshall, announcer, timekeeper):\n",
    "        # search for sessions\n",
    "        sessions = api.sessions(competition_id=competition_id)\n",
    "        current_sessions = {}\n",
    "        # FIXME: unable to go through pagination\n",
    "        for session in sessions['results']:\n",
    "            current_sessions[session['session_datetime']] = session['reference_id']\n",
    "        \n",
    "        current_session_datetimes = list(current_sessions.keys())\n",
    "        \n",
    "        if session_datetime not in current_session_datetimes:\n",
    "            print(f\"Session at {session_datetime} created.\")\n",
    "            return api.create_session(\n",
    "                competition_id=competition_id,\n",
    "                session_datetime=session_datetime,\n",
    "                referee_first=referee_first,\n",
    "                referee_second=referee_second,\n",
    "                referee_third=referee_third,\n",
    "                technical_controller=technical_controller,\n",
    "                jury=jury,\n",
    "                marshall=marshall,\n",
    "                announcer=announcer,\n",
    "                timekeeper=timekeeper,\n",
    "            )\n",
    "        print(f\"ERROR: Session at {session_datetime} already exists.\")\n",
    "        return api.get_session(competition_id=competition_id, session_id=current_sessions[session_datetime])\n",
    "\n",
    "    new_competition = create_competition(\n",
    "        date_start=competition_data['date_start'],\n",
    "        date_end=competition_data['date_end'],\n",
    "        location=competition_data['location'],\n",
    "        competition_name=competition_data['competition_name']\n",
    "    )\n",
    "\n",
    "    for session_data in sessions_data:\n",
    "        new_session = create_session(\n",
    "            competition_id=new_competition['reference_id'],\n",
    "            session_datetime=session_data['session_datetime'],\n",
    "            referee_first=session_data['referee_first'],\n",
    "            referee_second=session_data['referee_second'],\n",
    "            referee_third=session_data['referee_third'],\n",
    "            technical_controller=session_data['technical_controller'],\n",
    "            jury=session_data['jury'],\n",
    "            marshall=session_data['marshall'],\n",
    "            announcer=session_data['announcer'],\n",
    "            timekeeper=session_data['timekeeper'],\n",
    "        )"
   ]
  },
  {
   "cell_type": "code",
   "execution_count": 13,
   "metadata": {},
   "outputs": [
    {
     "name": "stdout",
     "output_type": "stream",
     "text": [
      "New Zealand International created.\n",
      "Session at 2022-02-26T10:00:00+13:00 created.\n",
      "Session at 2022-02-26T13:30:00+13:00 created.\n",
      "Session at 2022-02-27T10:00:00+13:00 created.\n",
      "Session at 2022-02-27T13:00:00+13:00 created.\n"
     ]
    }
   ],
   "source": [
    "competition_data = {\n",
    "    'date_start': \"2022-02-26\",\n",
    "    'date_end': \"2022-02-27\",\n",
    "    'location': \"Kolmar, Auckland\",\n",
    "    'competition_name': \"New Zealand International\",\n",
    "}\n",
    "\n",
    "sessions_data = [ \n",
    "    {\n",
    "        'session_datetime': \"2022-02-26T10:00:00+13:00\",\n",
    "        'referee_first': \"Jason Fanning\",\n",
    "        'referee_second': \"Odette Smith\",\n",
    "        'referee_third': \"Paule Poulin\",\n",
    "        'technical_controller': \"Alex Stewart\",\n",
    "        'jury': \"Barbara Grieve, Keisha-Dean Soffe, Alan Tano\",\n",
    "        'marshall': \"Karl Duncan, Karl Davies\",\n",
    "        'announcer': \"Empty\",\n",
    "        'timekeeper': \"Kirsty Walker\",\n",
    "    }, \n",
    "    {\n",
    "        'session_datetime': \"2022-02-26T13:30:00+13:00\",\n",
    "        'referee_first': \"Paule Poulin\",\n",
    "        'referee_second': \"Karl Duncan\",\n",
    "        'referee_third': \"Jason Fanning\",\n",
    "        'technical_controller': \"Andy Jameson\",\n",
    "        'jury': \"Barbara Grieve, Keisha-Dean Soffe, Alan Tano\",\n",
    "        'marshall': \"Odette Smith, Karl Davies\",\n",
    "        'announcer': \"Empty\",\n",
    "        'timekeeper': \"Alex Stewart\",\n",
    "    }, \n",
    "    {\n",
    "        'session_datetime': \"2022-02-27T10:00:00+13:00\",\n",
    "        'referee_first': \"Jason Fanning\",\n",
    "        'referee_second': \"Odette Smith\",\n",
    "        'referee_third': \"Paule Poulin\",\n",
    "        'technical_controller': \"Alex Jameson\",\n",
    "        'jury': \"Barbara Grieve, Keisha-Sean Soffee\",\n",
    "        'marshall': \"Andy Jameson, Kirsty Walker\",\n",
    "        'announcer': \"Empty\",\n",
    "        'timekeeper': \"Genice Paulley-Beazley\",\n",
    "    },\n",
    "    {\n",
    "        'session_datetime': \"2022-02-27T13:00:00+13:00\",\n",
    "        'referee_first': \"Paule Poulin\",\n",
    "        'referee_second': \"Karl Duncan\",\n",
    "        'referee_third': \"Jason Fanning\",\n",
    "        'technical_controller': \"Richie Wong\",\n",
    "        'jury': \"Barbara Grieve, Keisha-Dean Soffe, Alan Tano\",\n",
    "        'marshall': \"Alex Stewart\",\n",
    "        'announcer': \"Empty\",\n",
    "        'timekeeper': \"Genice Paulley-Beazley\",\n",
    "    }\n",
    "]\n",
    "\n",
    "create_competition_and_sessions(competition_data=competition_data, sessions_data=sessions_data)"
   ]
  },
  {
   "cell_type": "code",
   "execution_count": 14,
   "metadata": {},
   "outputs": [],
   "source": [
    "# create athletes\n",
    "\n",
    "def create_athlete(first_name: str, last_name: str, yearborn: int):\n",
    "    first_name = first_name\n",
    "    last_name = last_name\n",
    "    if api.find_athlete(search=(first_name + \" \" + last_name))[\"count\"] == 0:\n",
    "        create = api.create_athlete(\n",
    "            first_name=first_name, last_name=last_name, yearborn=yearborn\n",
    "        )\n",
    "        print(f\"athlete created {create['first_name']} {create['last_name']}\")\n",
    "    else:\n",
    "        print(\"athlete already exists\")"
   ]
  },
  {
   "cell_type": "code",
   "execution_count": 28,
   "metadata": {},
   "outputs": [],
   "source": [
    "# create lift\n",
    "\n",
    "competition_id = \"rbEp8Ev\"\n",
    "\n",
    "def create_lift(competition_id: str, session_id: str, lifts_data: list[dict[str: str|int]]):\n",
    "    for lift in lifts_data:\n",
    "        print(lift)\n",
    "        first_name = lift[\"athlete_name\"].split(\" \")[0]\n",
    "        last_name = lift[\"athlete_name\"].split(\" \")[1]\n",
    "        athlete = api.find_athlete(search=(first_name + \" \" + last_name))\n",
    "        print(athlete['results'][0]['reference_id'])\n",
    "        if athlete['count'] == 1:\n",
    "            api.create_lift(\n",
    "                competition_id=competition_id,\n",
    "                session_id=session_id,\n",
    "                athlete_id=athlete['results'][0]['reference_id'],\n",
    "                snatch_first=lift['snatch_first'],\n",
    "                snatch_first_weight=lift['snatch_first_weight'],\n",
    "                snatch_second=lift['snatch_second'],\n",
    "                snatch_second_weight=lift['snatch_second_weight'],\n",
    "                snatch_third=lift['snatch_third'],\n",
    "                snatch_third_weight=lift['snatch_third_weight'],\n",
    "                cnj_first=lift['cnj_first'],\n",
    "                cnj_first_weight=lift['cnj_first_weight'],\n",
    "                cnj_second=lift['cnj_second'],\n",
    "                cnj_second_weight=lift['cnj_second_weight'],\n",
    "                cnj_third=lift['cnj_third'],\n",
    "                cnj_third_weight=lift['cnj_third_weight'],\n",
    "                bodyweight=lift['bodyweight'],\n",
    "                weight_category=lift['weight_category'],\n",
    "                team=lift['team'],\n",
    "                lottery_number=lift['lottery_number'],\n",
    "                )\n",
    "            print(\"Lift created successfully\")\n",
    "        elif athlete['count'] > 1:\n",
    "            print(\"Multiple athlete with the name query exist\")\n",
    "        else:\n",
    "            print(f\"No athlete of the name, {lift['athlete_name']} this name exist\")"
   ]
  },
  {
   "cell_type": "code",
   "execution_count": 16,
   "metadata": {},
   "outputs": [],
   "source": [
    "def upload_pdf_s3(file_path, bucket, object_name=None):\n",
    "    if object_name is None:\n",
    "        object_name = os.path.basename(file_path)\n",
    "    s3_client = boto3.client('s3')\n",
    "    s3_client.upload_file(file_path, bucket, object_name)\n",
    "\n",
    "def analyse_pdf(file_path, bucket, object_name=None):\n",
    "    if object_name is None:\n",
    "        object_name = os.path.basename(file_path)\n",
    "    client = boto3.client('textract', region_name='ap-southeast-2')\n",
    "    response = client.start_document_analysis(\n",
    "        DocumentLocation={\n",
    "            'S3Object': {\n",
    "                'Bucket': bucket,\n",
    "                'Name': object_name}},\n",
    "            FeatureTypes=[\"TABLES\"]\n",
    "    )\n",
    "    return response"
   ]
  },
  {
   "cell_type": "code",
   "execution_count": 17,
   "metadata": {},
   "outputs": [],
   "source": [
    "FILE_PATH = \"./data/2022/2022.NZ_International.pdf\"\n",
    "BUCKET = \"reading-optom-notes\"\n",
    "\n",
    "upload_pdf_s3(file_path=FILE_PATH, bucket=BUCKET)"
   ]
  },
  {
   "cell_type": "code",
   "execution_count": 18,
   "metadata": {},
   "outputs": [],
   "source": [
    "response = analyse_pdf(file_path=FILE_PATH, bucket=BUCKET)"
   ]
  },
  {
   "cell_type": "code",
   "execution_count": 19,
   "metadata": {},
   "outputs": [
    {
     "data": {
      "text/plain": [
       "{'JobStatus': 'IN_PROGRESS',\n",
       " 'AnalyzeDocumentModelVersion': '1.0',\n",
       " 'ResponseMetadata': {'RequestId': '3a99ad99-1ec1-475d-95ca-6c67477efb59',\n",
       "  'HTTPStatusCode': 200,\n",
       "  'HTTPHeaders': {'x-amzn-requestid': '3a99ad99-1ec1-475d-95ca-6c67477efb59',\n",
       "   'content-type': 'application/x-amz-json-1.1',\n",
       "   'content-length': '63',\n",
       "   'date': 'Tue, 12 Apr 2022 10:09:51 GMT'},\n",
       "  'RetryAttempts': 0}}"
      ]
     },
     "execution_count": 19,
     "metadata": {},
     "output_type": "execute_result"
    }
   ],
   "source": [
    "client = boto3.client('textract')\n",
    "result = client.get_document_analysis(JobId=response['JobId'])\n",
    "result"
   ]
  },
  {
   "cell_type": "code",
   "execution_count": 20,
   "metadata": {},
   "outputs": [
    {
     "name": "stdout",
     "output_type": "stream",
     "text": [
      "IN_PROGRESS\n",
      "IN_PROGRESS\n",
      "IN_PROGRESS\n",
      "SUCCEEDED\n"
     ]
    }
   ],
   "source": [
    "def get_analysis():\n",
    "    client = boto3.client('textract')\n",
    "    result = client.get_document_analysis(JobId=response['JobId'])\n",
    "    print(result['JobStatus'])\n",
    "    if result[\"JobStatus\"] == \"IN_PROGRESS\":\n",
    "        time.sleep(5)\n",
    "        result = get_analysis()\n",
    "    return result\n",
    "\n",
    "result = get_analysis()\n",
    "\n",
    "results = [result]\n",
    "\n",
    "while result.get(\"NextToken\", None):\n",
    "    result = client.get_document_analysis(JobId=response['JobId'],NextToken=result['NextToken'])\n",
    "    results.append(result)"
   ]
  },
  {
   "cell_type": "code",
   "execution_count": 21,
   "metadata": {},
   "outputs": [],
   "source": [
    "# get table ids\n",
    "ids_from_tables = []\n",
    "for result in results:\n",
    "    for blocks in result['Blocks']:\n",
    "        if blocks[\"BlockType\"] == \"TABLE\":\n",
    "            ids_from_tables.extend(blocks[\"Relationships\"][0][\"Ids\"])"
   ]
  },
  {
   "cell_type": "code",
   "execution_count": 22,
   "metadata": {},
   "outputs": [],
   "source": [
    "# get blocks assocated with the table ids\n",
    "blocks_related_table = []\n",
    "for result in results:\n",
    "    for block in result['Blocks']:\n",
    "        for i in ids_from_tables:\n",
    "            if block[\"Id\"] == i and block.get(\"Relationships\", None):\n",
    "                blocks_related_table.append(block)"
   ]
  },
  {
   "cell_type": "code",
   "execution_count": 23,
   "metadata": {},
   "outputs": [],
   "source": [
    "# turn blocks into dictionary\n",
    "blockDictionary = {}\n",
    "for result in results:\n",
    "    for block in result['Blocks']:\n",
    "        blockDictionary[block[\"Id\"]] = block"
   ]
  },
  {
   "cell_type": "code",
   "execution_count": 24,
   "metadata": {},
   "outputs": [],
   "source": [
    "# extract relationships from table ids\n",
    "table_text = []\n",
    "for block_related_table in blocks_related_table:\n",
    "    table_text.append([blockDictionary[block_id][\"Text\"] for block_id in block_related_table[\"Relationships\"][0][\"Ids\"]])"
   ]
  },
  {
   "cell_type": "code",
   "execution_count": 105,
   "metadata": {},
   "outputs": [],
   "source": [
    "def give_lift_status(weight: str):\n",
    "    weight = weight.replace(' ','')\n",
    "    if weight.isdigit():\n",
    "        return (\"LIFT\", weight)\n",
    "    elif (weight[0], weight[-1]) == (\"(\",\")\"):\n",
    "        weight = weight.replace('(','')\n",
    "        weight = weight.replace(')','')\n",
    "        return (\"NOLIFT\", weight)\n",
    "    elif weight == '-':\n",
    "        return (\"DNA\", 0)\n",
    "\n",
    "def give_weight_category(weight_category: str):\n",
    "    weight_category = ''.join(weight_category)\n",
    "    weight_category = weight_category.replace(' ', '')\n",
    "    weight_category = weight_category.replace('196','96')\n",
    "    weight_category = weight_category.replace('>87', '87+')\n",
    "    weight_category = weight_category.replace('>109', '109+')\n",
    "    weight_category = weight_category.replace('F', 'W')\n",
    "    return weight_category\n",
    "\n",
    "def parse_lift(lift: list[list[str]]):\n",
    "    country = \"NZ\"\n",
    "    if lift[6] == [\"South\", \"Africa\"]:\n",
    "        country = \"ZA\"\n",
    "    if lift[6] == [\"Tonga\"]:\n",
    "        country = \"TO\"\n",
    "    if lift[6] == [\"Cook\", \"Islands\"]:\n",
    "        country = \"CK\"\n",
    "    if lift[6] == [\"Niue\"]:\n",
    "        country = \"NU\"\n",
    "    if lift[6] == [\"Fiji\"]:\n",
    "        country = \"FJ\"\n",
    "    if lift[6] == [\"Guest\"]:\n",
    "        country = \"G\"\n",
    "\n",
    "    lift_data = { \n",
    "        \"athlete_name\": f\"{lift[3][0]} {lift[2][0]}\",\n",
    "        \"snatch_first\": give_lift_status(lift[8][0])[0],\n",
    "        \"snatch_first_weight\": int(give_lift_status(lift[8][0])[1]),\n",
    "        \"snatch_second\": give_lift_status(lift[9][0])[0],\n",
    "        \"snatch_second_weight\": int(give_lift_status(lift[9][0])[1]),\n",
    "        \"snatch_third\": give_lift_status(lift[10][0])[0],\n",
    "        \"snatch_third_weight\": int(give_lift_status(lift[10][0])[1]),\n",
    "        \"cnj_first\": give_lift_status(lift[12][0])[0],\n",
    "        \"cnj_first_weight\": int(give_lift_status(lift[12][0])[1]),\n",
    "        \"cnj_second\": give_lift_status(lift[13][0])[0],\n",
    "        \"cnj_second_weight\": int(give_lift_status(lift[13][0])[1]),\n",
    "        \"cnj_third\": give_lift_status(lift[14][0])[0],\n",
    "        \"cnj_third_weight\": int(give_lift_status(lift[14][0])[1]),\n",
    "        \"bodyweight\": float(lift[5][0]),\n",
    "        \"weight_category\": give_weight_category(lift[4]),\n",
    "        \"team\": country,\n",
    "        \"lottery_number\": int(lift[1][0]),\n",
    "    }\n",
    "    return lift_data "
   ]
  },
  {
   "cell_type": "code",
   "execution_count": 106,
   "metadata": {},
   "outputs": [],
   "source": [
    "# add lifts and create athlete\n",
    "\n",
    "def create_athlete_lift(start: int, interval: int, table_text: list, competition_id: str, session_id: str):\n",
    "\n",
    "    lift_info = table_text[start:start+interval]\n",
    "    for i in lift_info:\n",
    "        print(i, end=\" \")\n",
    "        \n",
    "    valid = \"N\"\n",
    "    if input(f\"{lift_info}\") == \"Y\":\n",
    "    # if True:\n",
    "        create_athlete(\n",
    "            first_name=lift_info[3][0],\n",
    "            last_name=lift_info[2][0],\n",
    "            yearborn=lift_info[7][0],\n",
    "        )\n",
    "        create_lift(competition_id=competition_id, session_id=session_id, lifts_data=[parse_lift(lift_info)])\n",
    "        \n",
    "    print('\\n')\n",
    "    print(start+interval)"
   ]
  },
  {
   "cell_type": "code",
   "execution_count": 30,
   "metadata": {},
   "outputs": [
    {
     "name": "stdout",
     "output_type": "stream",
     "text": [
      "['1'] ['3'] ['Granger'] ['Elizabeth'] ['F 59'] ['59.00'] ['New', 'Zealand'] ['1991'] ['73'] ['75'] ['(77)'] ['75'] ['88'] ['92'] ['94'] ['94'] ['169'] ['1'] ['230.822'] ['325.189'] athlete already exists\n",
      "{'athlete_name': 'Elizabeth Granger', 'snatch_first': 'LIFT', 'snatch_first_weight': 73, 'snatch_second': 'LIFT', 'snatch_second_weight': 75, 'snatch_third': 'NOLIFT', 'snatch_third_weight': 77, 'cnj_first': 'LIFT', 'cnj_first_weight': 88, 'cnj_second': 'LIFT', 'cnj_second_weight': 92, 'cnj_third': 'LIFT', 'cnj_third_weight': 94, 'bodyweight': 59.0, 'weight_category': 'W59', 'team': 'NZ', 'lottery_number': 3}\n",
      "zbrJDNG\n",
      "Lift created successfully\n",
      "\n",
      "\n",
      "46\n"
     ]
    }
   ],
   "source": [
    "# Elizabeth Granger\n",
    "\n",
    "start = 26\n",
    "interval = 20\n",
    "session_id = \"9AKzrK6\"\n",
    "\n",
    "create_athlete_lift(\n",
    "    start=start,\n",
    "    interval=interval, \n",
    "    table_text=table_text,\n",
    "    competition_id=competition_id,\n",
    "    session_id=session_id\n",
    "    )"
   ]
  },
  {
   "cell_type": "code",
   "execution_count": 33,
   "metadata": {},
   "outputs": [
    {
     "name": "stdout",
     "output_type": "stream",
     "text": [
      "['2'] ['8'] ['Pretorius'] ['Mona'] ['F 59'] ['59.00'] ['South', 'Africa'] ['1988'] ['68'] ['(71)'] ['71'] ['71'] ['88'] ['91'] ['(94)'] ['91'] ['162'] ['2'] ['221.261'] ['282.557'] athlete created Mona Pretorius\n",
      "{'athlete_name': 'Mona Pretorius', 'snatch_first': 'LIFT', 'snatch_first_weight': 68, 'snatch_second': 'NOLIFT', 'snatch_second_weight': 71, 'snatch_third': 'LIFT', 'snatch_third_weight': 71, 'cnj_first': 'LIFT', 'cnj_first_weight': 88, 'cnj_second': 'LIFT', 'cnj_second_weight': 91, 'cnj_third': 'NOLIFT', 'cnj_third_weight': 94, 'bodyweight': 59.0, 'weight_category': 'W59', 'team': 'ZA', 'lottery_number': 8}\n",
      "W8A21rz\n",
      "Lift created successfully\n",
      "\n",
      "\n",
      "66\n"
     ]
    }
   ],
   "source": [
    "# Mona Pretorius\n",
    "\n",
    "start = 46\n",
    "interval = 20\n",
    "\n",
    "session_id = \"9AKzrK6\"\n",
    "\n",
    "create_athlete_lift(\n",
    "    start=start,\n",
    "    interval=interval, \n",
    "    table_text=table_text,\n",
    "    competition_id=competition_id,\n",
    "    session_id=session_id\n",
    "    )"
   ]
  },
  {
   "cell_type": "code",
   "execution_count": 34,
   "metadata": {},
   "outputs": [
    {
     "name": "stdout",
     "output_type": "stream",
     "text": [
      "['3'] ['11'] ['Froger'] ['Riana'] ['F 59'] ['58.40'] ['New', 'Zealand'] ['1996'] ['(65)'] ['(65)'] ['(65)'] ['-'] ['88'] ['91'] ['94'] ['94'] ['-'] ['-'] ['-'] athlete created Riana Froger\n",
      "{'athlete_name': 'Riana Froger', 'snatch_first': 'NOLIFT', 'snatch_first_weight': 65, 'snatch_second': 'NOLIFT', 'snatch_second_weight': 65, 'snatch_third': 'NOLIFT', 'snatch_third_weight': 65, 'cnj_first': 'LIFT', 'cnj_first_weight': 88, 'cnj_second': 'LIFT', 'cnj_second_weight': 91, 'cnj_third': 'LIFT', 'cnj_third_weight': 94, 'bodyweight': 58.4, 'weight_category': 'W59', 'team': 'NZ', 'lottery_number': 11}\n",
      "4RrXmAO\n",
      "Lift created successfully\n",
      "\n",
      "\n",
      "85\n"
     ]
    }
   ],
   "source": [
    "\n",
    "# Riana Froger\n",
    "\n",
    "start = 66\n",
    "interval = 19\n",
    "\n",
    "session_id = \"9AKzrK6\"\n",
    "\n",
    "create_athlete_lift(\n",
    "    start=start,\n",
    "    interval=interval, \n",
    "    table_text=table_text,\n",
    "    competition_id=competition_id,\n",
    "    session_id=session_id\n",
    "    )"
   ]
  },
  {
   "cell_type": "code",
   "execution_count": 35,
   "metadata": {},
   "outputs": [
    {
     "name": "stdout",
     "output_type": "stream",
     "text": [
      "['4'] ['19'] ['Selemaia'] ['Olivia'] ['F 64'] ['62.50'] ['New', 'Zealand'] ['2006'] ['80'] ['(83)'] ['83'] ['83'] ['100'] ['(105)'] ['(106)'] ['100'] ['183'] ['2'] ['241.007'] ['526.361'] athlete created Olivia Selemaia\n",
      "{'athlete_name': 'Olivia Selemaia', 'snatch_first': 'LIFT', 'snatch_first_weight': 80, 'snatch_second': 'NOLIFT', 'snatch_second_weight': 83, 'snatch_third': 'LIFT', 'snatch_third_weight': 83, 'cnj_first': 'LIFT', 'cnj_first_weight': 100, 'cnj_second': 'NOLIFT', 'cnj_second_weight': 105, 'cnj_third': 'NOLIFT', 'cnj_third_weight': 106, 'bodyweight': 62.5, 'weight_category': 'W64', 'team': 'NZ', 'lottery_number': 19}\n",
      "D9YZKrd\n",
      "Lift created successfully\n",
      "\n",
      "\n",
      "106\n"
     ]
    }
   ],
   "source": [
    "# Selemaia Olivia\n",
    "\n",
    "start = 86\n",
    "interval = 20\n",
    "\n",
    "session_id = \"9AKzrK6\"\n",
    "\n",
    "create_athlete_lift(\n",
    "    start=start,\n",
    "    interval=interval, \n",
    "    table_text=table_text,\n",
    "    competition_id=competition_id,\n",
    "    session_id=session_id\n",
    "    )"
   ]
  },
  {
   "cell_type": "code",
   "execution_count": 36,
   "metadata": {},
   "outputs": [
    {
     "name": "stdout",
     "output_type": "stream",
     "text": [
      "['5'] ['24'] ['McIntyre'] ['Emma'] ['F 64'] ['63.60'] ['New', 'Zealand'] ['1991'] ['82'] ['85'] ['87'] ['87'] ['101'] ['(104)'] ['104'] ['104'] ['191'] ['1'] ['248.896'] ['387.922'] athlete created Emma McIntyre\n",
      "{'athlete_name': 'Emma McIntyre', 'snatch_first': 'LIFT', 'snatch_first_weight': 82, 'snatch_second': 'LIFT', 'snatch_second_weight': 85, 'snatch_third': 'LIFT', 'snatch_third_weight': 87, 'cnj_first': 'LIFT', 'cnj_first_weight': 101, 'cnj_second': 'NOLIFT', 'cnj_second_weight': 104, 'cnj_third': 'LIFT', 'cnj_third_weight': 104, 'bodyweight': 63.6, 'weight_category': 'W64', 'team': 'NZ', 'lottery_number': 24}\n",
      "84YaoAm\n",
      "Lift created successfully\n",
      "\n",
      "\n",
      "126\n"
     ]
    }
   ],
   "source": [
    "# Emma McIntyre\n",
    "\n",
    "start = 106\n",
    "interval = 20\n",
    "\n",
    "session_id = \"9AKzrK6\"\n",
    "\n",
    "create_athlete_lift(\n",
    "    start=start,\n",
    "    interval=interval, \n",
    "    table_text=table_text,\n",
    "    competition_id=competition_id,\n",
    "    session_id=session_id\n",
    "    )"
   ]
  },
  {
   "cell_type": "code",
   "execution_count": 37,
   "metadata": {},
   "outputs": [
    {
     "name": "stdout",
     "output_type": "stream",
     "text": [
      "['6'] ['33'] ['Wedd'] ['Georgia'] ['F 64'] ['63.60'] ['New', 'Zealand'] ['1992'] ['64'] ['68'] ['(72)'] ['68'] ['(90)'] ['90'] ['(94)'] ['90'] ['158'] ['3'] ['205.893'] ['206.584'] athlete created Georgia Wedd\n",
      "{'athlete_name': 'Georgia Wedd', 'snatch_first': 'LIFT', 'snatch_first_weight': 64, 'snatch_second': 'LIFT', 'snatch_second_weight': 68, 'snatch_third': 'NOLIFT', 'snatch_third_weight': 72, 'cnj_first': 'NOLIFT', 'cnj_first_weight': 90, 'cnj_second': 'LIFT', 'cnj_second_weight': 90, 'cnj_third': 'NOLIFT', 'cnj_third_weight': 94, 'bodyweight': 63.6, 'weight_category': 'W64', 'team': 'NZ', 'lottery_number': 33}\n",
      "qkYLGNE\n",
      "Lift created successfully\n",
      "\n",
      "\n",
      "146\n"
     ]
    }
   ],
   "source": [
    "# Georgia Wedd\n",
    "\n",
    "start = 126\n",
    "interval = 20\n",
    "\n",
    "session_id = \"9AKzrK6\"\n",
    "\n",
    "create_athlete_lift(\n",
    "    start=start,\n",
    "    interval=interval, \n",
    "    table_text=table_text,\n",
    "    competition_id=competition_id,\n",
    "    session_id=session_id\n",
    "    )"
   ]
  },
  {
   "cell_type": "code",
   "execution_count": 38,
   "metadata": {},
   "outputs": [
    {
     "name": "stdout",
     "output_type": "stream",
     "text": [
      "['7'] ['17'] ['Wright'] ['Emma'] ['F 71'] ['69.40'] ['New', 'Zealand'] ['1991'] ['77'] ['81'] ['84'] ['84'] ['96'] ['100'] ['(104)'] ['100'] ['184'] ['4'] ['228.126'] ['290.313'] athlete created Emma Wright\n",
      "{'athlete_name': 'Emma Wright', 'snatch_first': 'LIFT', 'snatch_first_weight': 77, 'snatch_second': 'LIFT', 'snatch_second_weight': 81, 'snatch_third': 'LIFT', 'snatch_third_weight': 84, 'cnj_first': 'LIFT', 'cnj_first_weight': 96, 'cnj_second': 'LIFT', 'cnj_second_weight': 100, 'cnj_third': 'NOLIFT', 'cnj_third_weight': 104, 'bodyweight': 69.4, 'weight_category': 'W71', 'team': 'NZ', 'lottery_number': 17}\n",
      "vVr8pr7\n",
      "Lift created successfully\n",
      "\n",
      "\n",
      "167\n"
     ]
    }
   ],
   "source": [
    "# Emma Wright\n",
    "\n",
    "start = 147\n",
    "interval = 20\n",
    "\n",
    "session_id = \"9AKzrK6\"\n",
    "\n",
    "create_athlete_lift(\n",
    "    start=start,\n",
    "    interval=interval, \n",
    "    table_text=table_text,\n",
    "    competition_id=competition_id,\n",
    "    session_id=session_id\n",
    "    )"
   ]
  },
  {
   "cell_type": "code",
   "execution_count": 39,
   "metadata": {},
   "outputs": [
    {
     "name": "stdout",
     "output_type": "stream",
     "text": [
      "['8'] ['23'] ['Wright'] ['Samara'] ['F 71'] ['70.10'] ['New', 'Zealand'] ['2001'] ['(79)'] ['79'] ['(82)'] ['79'] ['(104)'] ['104'] ['107'] ['107'] ['186'] ['2'] ['229.365'] ['300.928'] athlete created Samara Wright\n",
      "{'athlete_name': 'Samara Wright', 'snatch_first': 'NOLIFT', 'snatch_first_weight': 79, 'snatch_second': 'LIFT', 'snatch_second_weight': 79, 'snatch_third': 'NOLIFT', 'snatch_third_weight': 82, 'cnj_first': 'NOLIFT', 'cnj_first_weight': 104, 'cnj_second': 'LIFT', 'cnj_second_weight': 104, 'cnj_third': 'LIFT', 'cnj_third_weight': 107, 'bodyweight': 70.1, 'weight_category': 'W71', 'team': 'NZ', 'lottery_number': 23}\n",
      "51N1Kr0\n",
      "Lift created successfully\n",
      "\n",
      "\n",
      "187\n"
     ]
    }
   ],
   "source": [
    "# Samara Wright\n",
    "\n",
    "start = 167\n",
    "interval = 20\n",
    "\n",
    "\n",
    "session_id = \"9AKzrK6\"\n",
    "\n",
    "create_athlete_lift(\n",
    "    start=start,\n",
    "    interval=interval, \n",
    "    table_text=table_text,\n",
    "    competition_id=competition_id,\n",
    "    session_id=session_id\n",
    "    )"
   ]
  },
  {
   "cell_type": "code",
   "execution_count": 41,
   "metadata": {},
   "outputs": [
    {
     "name": "stdout",
     "output_type": "stream",
     "text": [
      "['9'] ['32'] ['Duncan'] ['Rachel'] ['F 71'] ['66.70'] ['New', 'Zealand'] ['2003'] ['75'] ['(80)'] ['82'] ['82'] ['98'] ['103'] ['(106)'] ['103'] ['185'] ['3'] ['234.468'] ['358.180'] athlete created Rachel Duncan\n",
      "{'athlete_name': 'Rachel Duncan', 'snatch_first': 'LIFT', 'snatch_first_weight': 75, 'snatch_second': 'NOLIFT', 'snatch_second_weight': 80, 'snatch_third': 'LIFT', 'snatch_third_weight': 82, 'cnj_first': 'LIFT', 'cnj_first_weight': 98, 'cnj_second': 'LIFT', 'cnj_second_weight': 103, 'cnj_third': 'NOLIFT', 'cnj_third_weight': 106, 'bodyweight': 66.7, 'weight_category': 'W71', 'team': 'NZ', 'lottery_number': 32}\n",
      "MmN4MYx\n",
      "Lift created successfully\n",
      "\n",
      "\n",
      "207\n"
     ]
    }
   ],
   "source": [
    "# Rachel Duncan\n",
    "\n",
    "start = 187\n",
    "interval = 20\n",
    "\n",
    "session_id = \"9AKzrK6\"\n",
    "\n",
    "create_athlete_lift(\n",
    "    start=start,\n",
    "    interval=interval, \n",
    "    table_text=table_text,\n",
    "    competition_id=competition_id,\n",
    "    session_id=session_id\n",
    "    )"
   ]
  },
  {
   "cell_type": "code",
   "execution_count": 42,
   "metadata": {},
   "outputs": [
    {
     "name": "stdout",
     "output_type": "stream",
     "text": [
      "['10'] ['36'] ['Signal'] ['Megan'] ['F 71'] ['70.90'] ['New', 'Zealand'] ['1990'] ['80'] ['83'] ['(85)'] ['83'] ['103'] ['(108)'] ['108'] ['108'] ['191'] ['1'] ['234.118'] ['328.649'] athlete created Megan Signal\n",
      "{'athlete_name': 'Megan Signal', 'snatch_first': 'LIFT', 'snatch_first_weight': 80, 'snatch_second': 'LIFT', 'snatch_second_weight': 83, 'snatch_third': 'NOLIFT', 'snatch_third_weight': 85, 'cnj_first': 'LIFT', 'cnj_first_weight': 103, 'cnj_second': 'NOLIFT', 'cnj_second_weight': 108, 'cnj_third': 'LIFT', 'cnj_third_weight': 108, 'bodyweight': 70.9, 'weight_category': 'W71', 'team': 'NZ', 'lottery_number': 36}\n",
      "7wNKmrG\n",
      "Lift created successfully\n",
      "\n",
      "\n",
      "227\n"
     ]
    }
   ],
   "source": [
    "# Megan Signal\n",
    "\n",
    "start = 207\n",
    "interval = 20\n",
    "\n",
    "session_id = \"9AKzrK6\"\n",
    "\n",
    "create_athlete_lift(\n",
    "    start=start,\n",
    "    interval=interval, \n",
    "    table_text=table_text,\n",
    "    competition_id=competition_id,\n",
    "    session_id=session_id\n",
    "    )"
   ]
  },
  {
   "cell_type": "code",
   "execution_count": 47,
   "metadata": {},
   "outputs": [
    {
     "name": "stdout",
     "output_type": "stream",
     "text": [
      "['1'] ['37'] ['Villalon'] ['Vester'] ['M 73'] ['72.90'] ['New', 'Zealand'] ['1991'] ['122'] ['125'] ['128'] ['128'] ['149'] ['154'] ['159'] ['159'] ['287'] ['1'] ['369.285'] ['458.228'] athlete created Vester Villalon\n",
      "{'athlete_name': 'Vester Villalon', 'snatch_first': 'LIFT', 'snatch_first_weight': 122, 'snatch_second': 'LIFT', 'snatch_second_weight': 125, 'snatch_third': 'LIFT', 'snatch_third_weight': 128, 'cnj_first': 'LIFT', 'cnj_first_weight': 149, 'cnj_second': 'LIFT', 'cnj_second_weight': 154, 'cnj_third': 'LIFT', 'cnj_third_weight': 159, 'bodyweight': 72.9, 'weight_category': 'M73', 'team': 'NZ', 'lottery_number': 37}\n",
      "JvAEnNE\n",
      "Lift created successfully\n",
      "\n",
      "\n",
      "273\n"
     ]
    }
   ],
   "source": [
    "# Vester Villalon\n",
    "\n",
    "start = 253\n",
    "interval = 20\n",
    "session_id = \"BPlBblk\"\n",
    "\n",
    "create_athlete_lift(\n",
    "    start=start,\n",
    "    interval=interval, \n",
    "    table_text=table_text,\n",
    "    competition_id=competition_id,\n",
    "    session_id=session_id\n",
    "    )"
   ]
  },
  {
   "cell_type": "code",
   "execution_count": 52,
   "metadata": {},
   "outputs": [
    {
     "name": "stdout",
     "output_type": "stream",
     "text": [
      "['2'] ['5'] ['Power'] ['Curran'] ['M', '81'] ['79.50'] ['New', 'Zealand'] ['1997'] ['116'] ['121'] ['125'] ['125'] ['136'] ['142'] ['(147)'] ['142'] ['267'] ['2'] ['327.685'] ['315.104'] athlete already exists\n",
      "{'athlete_name': 'Curran Power', 'snatch_first': 'LIFT', 'snatch_first_weight': 116, 'snatch_second': 'LIFT', 'snatch_second_weight': 121, 'snatch_third': 'LIFT', 'snatch_third_weight': 125, 'cnj_first': 'LIFT', 'cnj_first_weight': 136, 'cnj_second': 'LIFT', 'cnj_second_weight': 142, 'cnj_third': 'NOLIFT', 'cnj_third_weight': 147, 'bodyweight': 79.5, 'weight_category': 'M81', 'team': 'NZ', 'lottery_number': 5}\n",
      "a8YVpAG\n",
      "Lift created successfully\n",
      "\n",
      "\n",
      "294\n"
     ]
    }
   ],
   "source": [
    "# Curran Power\n",
    "\n",
    "start = 274\n",
    "interval = 20\n",
    "session_id = \"BPlBblk\"\n",
    "\n",
    "create_athlete_lift(\n",
    "    start=start,\n",
    "    interval=interval, \n",
    "    table_text=table_text,\n",
    "    competition_id=competition_id,\n",
    "    session_id=session_id\n",
    "    )"
   ]
  },
  {
   "cell_type": "code",
   "execution_count": 53,
   "metadata": {},
   "outputs": [
    {
     "name": "stdout",
     "output_type": "stream",
     "text": [
      "['3'] ['16'] ['Roberts'] ['Johan'] ['M 81'] ['80.10'] ['New', 'Zealand'] ['2004'] ['115'] ['120'] ['(124)'] ['120'] ['155'] ['(160)'] ['(160)'] ['155'] ['275'] ['1'] ['336.200'] ['366.546'] athlete created Johan Roberts\n",
      "{'athlete_name': 'Johan Roberts', 'snatch_first': 'LIFT', 'snatch_first_weight': 115, 'snatch_second': 'LIFT', 'snatch_second_weight': 120, 'snatch_third': 'NOLIFT', 'snatch_third_weight': 124, 'cnj_first': 'LIFT', 'cnj_first_weight': 155, 'cnj_second': 'NOLIFT', 'cnj_second_weight': 160, 'cnj_third': 'NOLIFT', 'cnj_third_weight': 160, 'bodyweight': 80.1, 'weight_category': 'M81', 'team': 'NZ', 'lottery_number': 16}\n",
      "wLN0Jr0\n",
      "Lift created successfully\n",
      "\n",
      "\n",
      "314\n"
     ]
    }
   ],
   "source": [
    "# Johan Roberts\n",
    "start = 294\n",
    "interval = 20\n",
    "session_id = \"BPlBblk\"\n",
    "\n",
    "create_athlete_lift(\n",
    "    start=start,\n",
    "    interval=interval, \n",
    "    table_text=table_text,\n",
    "    competition_id=competition_id,\n",
    "    session_id=session_id\n",
    "    )"
   ]
  },
  {
   "cell_type": "code",
   "execution_count": 54,
   "metadata": {},
   "outputs": [
    {
     "name": "stdout",
     "output_type": "stream",
     "text": [
      "['4'] ['30'] ['Tura'] ['Jerome'] ['M 81'] ['80.20'] ['Cook', 'Islands'] ['1991'] ['100'] ['105'] ['110'] ['110'] ['135'] ['140'] ['(148)'] ['140'] ['250'] ['3'] ['305.441'] ['253.246'] athlete created Jerome Tura\n",
      "{'athlete_name': 'Jerome Tura', 'snatch_first': 'LIFT', 'snatch_first_weight': 100, 'snatch_second': 'LIFT', 'snatch_second_weight': 105, 'snatch_third': 'LIFT', 'snatch_third_weight': 110, 'cnj_first': 'LIFT', 'cnj_first_weight': 135, 'cnj_second': 'LIFT', 'cnj_second_weight': 140, 'cnj_third': 'NOLIFT', 'cnj_third_weight': 148, 'bodyweight': 80.2, 'weight_category': 'M81', 'team': 'CK', 'lottery_number': 30}\n",
      "blrMXYy\n",
      "Lift created successfully\n",
      "\n",
      "\n",
      "334\n"
     ]
    }
   ],
   "source": [
    "start = 314\n",
    "interval = 20\n",
    "session_id = \"BPlBblk\"\n",
    "\n",
    "create_athlete_lift(\n",
    "    start=start,\n",
    "    interval=interval, \n",
    "    table_text=table_text,\n",
    "    competition_id=competition_id,\n",
    "    session_id=session_id\n",
    "    )"
   ]
  },
  {
   "cell_type": "code",
   "execution_count": 59,
   "metadata": {},
   "outputs": [
    {
     "name": "stdout",
     "output_type": "stream",
     "text": [
      "['6'] ['1'] ['Sekone-Fraser'] ['Douglas'] ['M', '1 96'] ['95.00'] ['New', 'Zealand'] ['1991'] ['(132)'] ['136'] ['(141)'] ['136'] ['163'] ['(167)'] ['(167)'] ['163'] ['299'] ['1'] ['338.147'] ['333.858'] athlete already exists\n",
      "{'athlete_name': 'Douglas Sekone-Fraser', 'snatch_first': 'NOLIFT', 'snatch_first_weight': 132, 'snatch_second': 'LIFT', 'snatch_second_weight': 136, 'snatch_third': 'NOLIFT', 'snatch_third_weight': 141, 'cnj_first': 'LIFT', 'cnj_first_weight': 163, 'cnj_second': 'NOLIFT', 'cnj_second_weight': 167, 'cnj_third': 'NOLIFT', 'cnj_third_weight': 167, 'bodyweight': 95.0, 'weight_category': 'M96', 'team': 'NZ', 'lottery_number': 1}\n",
      "d2rdkYw\n",
      "Lift created successfully\n",
      "\n",
      "\n",
      "355\n"
     ]
    }
   ],
   "source": [
    "start = 335\n",
    "interval = 20\n",
    "session_id = \"BPlBblk\"\n",
    "\n",
    "create_athlete_lift(\n",
    "    start=start,\n",
    "    interval=interval, \n",
    "    table_text=table_text,\n",
    "    competition_id=competition_id,\n",
    "    session_id=session_id\n",
    "    )"
   ]
  },
  {
   "cell_type": "code",
   "execution_count": 61,
   "metadata": {},
   "outputs": [
    {
     "name": "stdout",
     "output_type": "stream",
     "text": [
      "['7'] ['4'] ['Klenner'] ['Colin'] ['M 96'] ['93.60'] ['New', 'Zealand'] ['1987'] ['115'] ['(120)'] ['(125)'] ['115'] ['150'] ['155'] ['(160)'] ['155'] ['270'] ['4'] ['307.195'] ['237.890'] athlete created Colin Klenner\n",
      "{'athlete_name': 'Colin Klenner', 'snatch_first': 'LIFT', 'snatch_first_weight': 115, 'snatch_second': 'NOLIFT', 'snatch_second_weight': 120, 'snatch_third': 'NOLIFT', 'snatch_third_weight': 125, 'cnj_first': 'LIFT', 'cnj_first_weight': 150, 'cnj_second': 'LIFT', 'cnj_second_weight': 155, 'cnj_third': 'NOLIFT', 'cnj_third_weight': 160, 'bodyweight': 93.6, 'weight_category': 'M96', 'team': 'NZ', 'lottery_number': 4}\n",
      "2KYB4Am\n",
      "Lift created successfully\n",
      "\n",
      "\n",
      "375\n"
     ]
    }
   ],
   "source": [
    "start = 355\n",
    "interval = 20\n",
    "session_id = \"BPlBblk\"\n",
    "\n",
    "create_athlete_lift(\n",
    "    start=start,\n",
    "    interval=interval, \n",
    "    table_text=table_text,\n",
    "    competition_id=competition_id,\n",
    "    session_id=session_id\n",
    "    )"
   ]
  },
  {
   "cell_type": "code",
   "execution_count": 62,
   "metadata": {},
   "outputs": [
    {
     "name": "stdout",
     "output_type": "stream",
     "text": [
      "['8'] ['15'] ['Funaki'] ['Uaealesi'] ['M 96'] ['95.10'] ['Tonga'] ['1998'] ['125'] ['(130)'] ['(130)'] ['125'] ['(165)'] ['(165)'] ['(166)'] ['-'] ['-'] ['-'] ['9'] ['18'] athlete created Uaealesi Funaki\n",
      "{'athlete_name': 'Uaealesi Funaki', 'snatch_first': 'LIFT', 'snatch_first_weight': 125, 'snatch_second': 'NOLIFT', 'snatch_second_weight': 130, 'snatch_third': 'NOLIFT', 'snatch_third_weight': 130, 'cnj_first': 'NOLIFT', 'cnj_first_weight': 165, 'cnj_second': 'NOLIFT', 'cnj_second_weight': 165, 'cnj_third': 'NOLIFT', 'cnj_third_weight': 166, 'bodyweight': 95.1, 'weight_category': 'M96', 'team': 'TO', 'lottery_number': 15}\n",
      "WlNpMYv\n",
      "Lift created successfully\n",
      "\n",
      "\n",
      "395\n"
     ]
    }
   ],
   "source": [
    "start = 375\n",
    "interval = 20\n",
    "session_id = \"BPlBblk\"\n",
    "\n",
    "create_athlete_lift(\n",
    "    start=start,\n",
    "    interval=interval, \n",
    "    table_text=table_text,\n",
    "    competition_id=competition_id,\n",
    "    session_id=session_id\n",
    "    )"
   ]
  },
  {
   "cell_type": "code",
   "execution_count": 64,
   "metadata": {},
   "outputs": [
    {
     "name": "stdout",
     "output_type": "stream",
     "text": [
      "['9'] ['18'] ['Albert'] ['Xavier'] ['M 96'] ['91.70'] ['New', 'Zealand'] ['1998'] ['125'] ['(130)'] ['(133)'] ['125'] ['145'] ['149'] ['153'] ['153'] ['278'] ['3'] ['319.015'] ['262.121'] athlete created Xavier Albert\n",
      "{'athlete_name': 'Xavier Albert', 'snatch_first': 'LIFT', 'snatch_first_weight': 125, 'snatch_second': 'NOLIFT', 'snatch_second_weight': 130, 'snatch_third': 'NOLIFT', 'snatch_third_weight': 133, 'cnj_first': 'LIFT', 'cnj_first_weight': 145, 'cnj_second': 'LIFT', 'cnj_second_weight': 149, 'cnj_third': 'LIFT', 'cnj_third_weight': 153, 'bodyweight': 91.7, 'weight_category': 'M96', 'team': 'NZ', 'lottery_number': 18}\n",
      "4nAnLY0\n",
      "Lift created successfully\n",
      "\n",
      "\n",
      "413\n"
     ]
    }
   ],
   "source": [
    "start = 393\n",
    "interval = 20\n",
    "session_id = \"BPlBblk\"\n",
    "\n",
    "create_athlete_lift(\n",
    "    start=start,\n",
    "    interval=interval, \n",
    "    table_text=table_text,\n",
    "    competition_id=competition_id,\n",
    "    session_id=session_id\n",
    "    )"
   ]
  },
  {
   "cell_type": "code",
   "execution_count": 66,
   "metadata": {},
   "outputs": [
    {
     "name": "stdout",
     "output_type": "stream",
     "text": [
      "['5'] ['21'] ['McTaggart'] ['Cameron'] ['M 96'] ['86.60'] ['New', 'Zealand'] ['1997'] ['(138)'] ['(138)'] ['(138)'] ['-'] ['165'] ['171'] ['(176)'] ['171'] ['-'] ['-'] ['-'] athlete created Cameron McTaggart\n",
      "{'athlete_name': 'Cameron McTaggart', 'snatch_first': 'NOLIFT', 'snatch_first_weight': 138, 'snatch_second': 'NOLIFT', 'snatch_second_weight': 138, 'snatch_third': 'NOLIFT', 'snatch_third_weight': 138, 'cnj_first': 'LIFT', 'cnj_first_weight': 165, 'cnj_second': 'LIFT', 'cnj_second_weight': 171, 'cnj_third': 'NOLIFT', 'cnj_third_weight': 176, 'bodyweight': 86.6, 'weight_category': 'M96', 'team': 'NZ', 'lottery_number': 21}\n",
      "DWNvLry\n",
      "Lift created successfully\n",
      "\n",
      "\n",
      "432\n"
     ]
    }
   ],
   "source": [
    "start = 413\n",
    "interval = 19\n",
    "session_id = \"BPlBblk\"\n",
    "\n",
    "create_athlete_lift(\n",
    "    start=start,\n",
    "    interval=interval, \n",
    "    table_text=table_text,\n",
    "    competition_id=competition_id,\n",
    "    session_id=session_id\n",
    "    )"
   ]
  },
  {
   "cell_type": "code",
   "execution_count": 68,
   "metadata": {},
   "outputs": [
    {
     "name": "stdout",
     "output_type": "stream",
     "text": [
      "['10'] ['28'] ['Dombroski'] ['Ethan'] ['M 96'] ['94.90'] ['New', 'Zealand'] ['2001'] ['110'] ['118'] ['(123)'] ['118'] ['150'] ['(158)'] ['(161)'] ['150'] ['268'] ['5'] ['303.216'] ['232.086'] athlete created Ethan Dombroski\n",
      "{'athlete_name': 'Ethan Dombroski', 'snatch_first': 'LIFT', 'snatch_first_weight': 110, 'snatch_second': 'LIFT', 'snatch_second_weight': 118, 'snatch_third': 'NOLIFT', 'snatch_third_weight': 123, 'cnj_first': 'LIFT', 'cnj_first_weight': 150, 'cnj_second': 'NOLIFT', 'cnj_second_weight': 158, 'cnj_third': 'NOLIFT', 'cnj_third_weight': 161, 'bodyweight': 94.9, 'weight_category': 'M96', 'team': 'NZ', 'lottery_number': 28}\n",
      "q8ro7rX\n",
      "Lift created successfully\n",
      "\n",
      "\n",
      "452\n"
     ]
    }
   ],
   "source": [
    "start = 432\n",
    "interval = 20\n",
    "session_id = \"BPlBblk\"\n",
    "\n",
    "create_athlete_lift(\n",
    "    start=start,\n",
    "    interval=interval, \n",
    "    table_text=table_text,\n",
    "    competition_id=competition_id,\n",
    "    session_id=session_id\n",
    "    )"
   ]
  },
  {
   "cell_type": "code",
   "execution_count": 69,
   "metadata": {},
   "outputs": [
    {
     "name": "stdout",
     "output_type": "stream",
     "text": [
      "['11'] ['35'] ['Urgert'] ['Cam'] ['M', '96'] ['93.40'] ['New', 'Zealand'] ['1993'] ['135'] ['(139)'] ['(140)'] ['135'] ['(160)'] ['161'] ['(166)'] ['161'] ['296'] ['2'] ['337.073'] ['322.860'] athlete created Cam Urgert\n",
      "{'athlete_name': 'Cam Urgert', 'snatch_first': 'LIFT', 'snatch_first_weight': 135, 'snatch_second': 'NOLIFT', 'snatch_second_weight': 139, 'snatch_third': 'NOLIFT', 'snatch_third_weight': 140, 'cnj_first': 'NOLIFT', 'cnj_first_weight': 160, 'cnj_second': 'LIFT', 'cnj_second_weight': 161, 'cnj_third': 'NOLIFT', 'cnj_third_weight': 166, 'bodyweight': 93.4, 'weight_category': 'M96', 'team': 'NZ', 'lottery_number': 35}\n",
      "KeAg9YM\n",
      "Lift created successfully\n",
      "\n",
      "\n",
      "472\n"
     ]
    }
   ],
   "source": [
    "start = 452\n",
    "interval = 20\n",
    "session_id = \"BPlBblk\"\n",
    "\n",
    "create_athlete_lift(\n",
    "    start=start,\n",
    "    interval=interval, \n",
    "    table_text=table_text,\n",
    "    competition_id=competition_id,\n",
    "    session_id=session_id\n",
    "    )"
   ]
  },
  {
   "cell_type": "code",
   "execution_count": 72,
   "metadata": {},
   "outputs": [
    {
     "name": "stdout",
     "output_type": "stream",
     "text": [
      "['1'] ['10'] ['Baarspul'] ['Renee'] ['F 76'] ['75.50'] ['New', 'Zealand'] ['1986'] ['83'] ['88'] ['(91)'] ['88'] ['101'] ['(105)'] ['(106)'] ['101'] ['189'] ['1'] ['224.428'] ['291.213'] athlete created Renee Baarspul\n",
      "{'athlete_name': 'Renee Baarspul', 'snatch_first': 'LIFT', 'snatch_first_weight': 83, 'snatch_second': 'LIFT', 'snatch_second_weight': 88, 'snatch_third': 'NOLIFT', 'snatch_third_weight': 91, 'cnj_first': 'LIFT', 'cnj_first_weight': 101, 'cnj_second': 'NOLIFT', 'cnj_second_weight': 105, 'cnj_third': 'NOLIFT', 'cnj_third_weight': 106, 'bodyweight': 75.5, 'weight_category': 'W76', 'team': 'NZ', 'lottery_number': 10}\n",
      "BzNGwNV\n",
      "Lift created successfully\n",
      "\n",
      "\n",
      "518\n"
     ]
    }
   ],
   "source": [
    "start = 498\n",
    "interval = 20\n",
    "session_id = \"arDNGgQ\"\n",
    "\n",
    "create_athlete_lift(\n",
    "    start=start,\n",
    "    interval=interval, \n",
    "    table_text=table_text,\n",
    "    competition_id=competition_id,\n",
    "    session_id=session_id\n",
    "    )"
   ]
  },
  {
   "cell_type": "code",
   "execution_count": 75,
   "metadata": {},
   "outputs": [
    {
     "name": "stdout",
     "output_type": "stream",
     "text": [
      "['2'] ['25'] ['Jones'] ['Medea'] ['F 76'] ['75.00'] ['New', 'Zealand'] ['2003'] ['85'] ['(89)'] ['89'] ['89'] ['(97)'] ['(97)'] ['(97)'] ['-'] ['-'] ['-'] ['-'] athlete created Medea Jones\n",
      "{'athlete_name': 'Medea Jones', 'snatch_first': 'LIFT', 'snatch_first_weight': 85, 'snatch_second': 'NOLIFT', 'snatch_second_weight': 89, 'snatch_third': 'LIFT', 'snatch_third_weight': 89, 'cnj_first': 'NOLIFT', 'cnj_first_weight': 97, 'cnj_second': 'NOLIFT', 'cnj_second_weight': 97, 'cnj_third': 'NOLIFT', 'cnj_third_weight': 97, 'bodyweight': 75.0, 'weight_category': 'W76', 'team': 'NZ', 'lottery_number': 25}\n",
      "eXAyDrm\n",
      "Lift created successfully\n",
      "\n",
      "\n",
      "537\n"
     ]
    }
   ],
   "source": [
    "start = 518\n",
    "interval = 19\n",
    "session_id = \"arDNGgQ\"\n",
    "\n",
    "create_athlete_lift(\n",
    "    start=start,\n",
    "    interval=interval, \n",
    "    table_text=table_text,\n",
    "    competition_id=competition_id,\n",
    "    session_id=session_id\n",
    "    )"
   ]
  },
  {
   "cell_type": "code",
   "execution_count": 76,
   "metadata": {},
   "outputs": [
    {
     "name": "stdout",
     "output_type": "stream",
     "text": [
      "['3'] ['27'] ['Hansen'] ['Sam'] ['F 76'] ['75.50'] ['New', 'Zealand'] ['1999'] ['82'] ['(85)'] ['(85)'] ['82'] ['106'] ['(110)'] ['(113)'] ['106'] ['188'] ['2'] ['223.241'] ['286.126'] athlete created Sam Hansen\n",
      "{'athlete_name': 'Sam Hansen', 'snatch_first': 'LIFT', 'snatch_first_weight': 82, 'snatch_second': 'NOLIFT', 'snatch_second_weight': 85, 'snatch_third': 'NOLIFT', 'snatch_third_weight': 85, 'cnj_first': 'LIFT', 'cnj_first_weight': 106, 'cnj_second': 'NOLIFT', 'cnj_second_weight': 110, 'cnj_third': 'NOLIFT', 'cnj_third_weight': 113, 'bodyweight': 75.5, 'weight_category': 'W76', 'team': 'NZ', 'lottery_number': 27}\n",
      "MXYReNm\n",
      "Lift created successfully\n",
      "\n",
      "\n",
      "557\n"
     ]
    }
   ],
   "source": [
    "start = 537\n",
    "interval = 20\n",
    "session_id = \"arDNGgQ\"\n",
    "\n",
    "create_athlete_lift(\n",
    "    start=start,\n",
    "    interval=interval, \n",
    "    table_text=table_text,\n",
    "    competition_id=competition_id,\n",
    "    session_id=session_id\n",
    "    )"
   ]
  },
  {
   "cell_type": "code",
   "execution_count": 77,
   "metadata": {},
   "outputs": [
    {
     "name": "stdout",
     "output_type": "stream",
     "text": [
      "['4'] ['31'] ['Drain'] ['Holly'] ['F 76'] ['75.60'] ['New', 'Zealand'] ['1998'] ['80'] ['(84)'] ['(85)'] ['80'] ['92'] ['96'] ['(100)'] ['96'] ['176'] ['3'] ['208.858'] ['229.826'] athlete created Holly Drain\n",
      "{'athlete_name': 'Holly Drain', 'snatch_first': 'LIFT', 'snatch_first_weight': 80, 'snatch_second': 'NOLIFT', 'snatch_second_weight': 84, 'snatch_third': 'NOLIFT', 'snatch_third_weight': 85, 'cnj_first': 'LIFT', 'cnj_first_weight': 92, 'cnj_second': 'LIFT', 'cnj_second_weight': 96, 'cnj_third': 'NOLIFT', 'cnj_third_weight': 100, 'bodyweight': 75.6, 'weight_category': 'W76', 'team': 'NZ', 'lottery_number': 31}\n",
      "R0r6brE\n",
      "Lift created successfully\n",
      "\n",
      "\n",
      "577\n"
     ]
    }
   ],
   "source": [
    "start = 557\n",
    "interval = 20\n",
    "session_id = \"arDNGgQ\"\n",
    "\n",
    "create_athlete_lift(\n",
    "    start=start,\n",
    "    interval=interval, \n",
    "    table_text=table_text,\n",
    "    competition_id=competition_id,\n",
    "    session_id=session_id\n",
    "    )"
   ]
  },
  {
   "cell_type": "code",
   "execution_count": 86,
   "metadata": {},
   "outputs": [
    {
     "name": "stdout",
     "output_type": "stream",
     "text": [
      "['5'] ['7'] ['Andrews-Nahu'] ['Kanah'] ['F 87'] ['86.00'] ['New', 'Zealand'] ['2001'] ['95'] ['98'] ['100'] ['100'] ['115'] ['118'] ['122'] ['122'] ['222'] ['2'] ['248.959'] ['393.318'] athlete already exists\n",
      "{'athlete_name': 'Kanah Andrews-Nahu', 'snatch_first': 'LIFT', 'snatch_first_weight': 95, 'snatch_second': 'LIFT', 'snatch_second_weight': 98, 'snatch_third': 'LIFT', 'snatch_third_weight': 100, 'cnj_first': 'LIFT', 'cnj_first_weight': 115, 'cnj_second': 'LIFT', 'cnj_second_weight': 118, 'cnj_third': 'LIFT', 'cnj_third_weight': 122, 'bodyweight': 86.0, 'weight_category': 'W87', 'team': 'NZ', 'lottery_number': 7}\n",
      "QZN7Qrv\n",
      "Lift created successfully\n",
      "\n",
      "\n",
      "598\n"
     ]
    }
   ],
   "source": [
    "start = 578\n",
    "interval = 20\n",
    "session_id = \"arDNGgQ\"\n",
    "\n",
    "create_athlete_lift(\n",
    "    start=start,\n",
    "    interval=interval, \n",
    "    table_text=table_text,\n",
    "    competition_id=competition_id,\n",
    "    session_id=session_id\n",
    "    )"
   ]
  },
  {
   "cell_type": "code",
   "execution_count": 87,
   "metadata": {},
   "outputs": [
    {
     "name": "stdout",
     "output_type": "stream",
     "text": [
      "['6'] ['9'] ['Whiting'] ['Hayley'] ['F 87'] ['83.10'] ['New', 'Zealand'] ['1993'] ['95'] ['(98)'] ['98'] ['98'] ['116'] ['120'] ['125'] ['125'] ['223'] ['1'] ['253.593'] ['399.234'] athlete created Hayley Whiting\n",
      "{'athlete_name': 'Hayley Whiting', 'snatch_first': 'LIFT', 'snatch_first_weight': 95, 'snatch_second': 'NOLIFT', 'snatch_second_weight': 98, 'snatch_third': 'LIFT', 'snatch_third_weight': 98, 'cnj_first': 'LIFT', 'cnj_first_weight': 116, 'cnj_second': 'LIFT', 'cnj_second_weight': 120, 'cnj_third': 'LIFT', 'cnj_third_weight': 125, 'bodyweight': 83.1, 'weight_category': 'W87', 'team': 'NZ', 'lottery_number': 9}\n",
      "gdrPoYp\n",
      "Lift created successfully\n",
      "\n",
      "\n",
      "618\n"
     ]
    }
   ],
   "source": [
    "start = 598\n",
    "interval = 20\n",
    "session_id = \"arDNGgQ\"\n",
    "\n",
    "create_athlete_lift(\n",
    "    start=start,\n",
    "    interval=interval, \n",
    "    table_text=table_text,\n",
    "    competition_id=competition_id,\n",
    "    session_id=session_id\n",
    "    )"
   ]
  },
  {
   "cell_type": "code",
   "execution_count": 92,
   "metadata": {},
   "outputs": [
    {
     "name": "stdout",
     "output_type": "stream",
     "text": [
      "['7'] ['2'] ['Summerell'] ['Miniah'] ['F>87'] ['111.30'] ['New', 'Zealand'] ['2003'] ['(80)'] ['83'] ['(87)'] ['83'] ['100'] ['(105)'] ['109'] ['109'] ['192'] ['2'] ['198.916'] ['162.152'] athlete already exists\n",
      "{'athlete_name': 'Miniah Summerell', 'snatch_first': 'NOLIFT', 'snatch_first_weight': 80, 'snatch_second': 'LIFT', 'snatch_second_weight': 83, 'snatch_third': 'NOLIFT', 'snatch_third_weight': 87, 'cnj_first': 'LIFT', 'cnj_first_weight': 100, 'cnj_second': 'NOLIFT', 'cnj_second_weight': 105, 'cnj_third': 'LIFT', 'cnj_third_weight': 109, 'bodyweight': 111.3, 'weight_category': 'W87+', 'team': 'NZ', 'lottery_number': 2}\n",
      "nBAl1Nz\n",
      "Lift created successfully\n",
      "\n",
      "\n",
      "639\n"
     ]
    }
   ],
   "source": [
    "start = 619\n",
    "interval = 20\n",
    "session_id = \"arDNGgQ\"\n",
    "\n",
    "create_athlete_lift(\n",
    "    start=start,\n",
    "    interval=interval, \n",
    "    table_text=table_text,\n",
    "    competition_id=competition_id,\n",
    "    session_id=session_id\n",
    "    )"
   ]
  },
  {
   "cell_type": "code",
   "execution_count": 93,
   "metadata": {},
   "outputs": [
    {
     "name": "stdout",
     "output_type": "stream",
     "text": [
      "['8'] ['29'] ['Edwards'] ['Ramsi'] ['F>87'] ['105.90'] ['Niue'] ['2006'] ['50'] ['57'] ['62'] ['62'] ['70'] ['75'] ['(80)'] ['75'] ['137'] ['3'] ['143.613'] ['126.963'] athlete created Ramsi Edwards\n",
      "{'athlete_name': 'Ramsi Edwards', 'snatch_first': 'LIFT', 'snatch_first_weight': 50, 'snatch_second': 'LIFT', 'snatch_second_weight': 57, 'snatch_third': 'LIFT', 'snatch_third_weight': 62, 'cnj_first': 'LIFT', 'cnj_first_weight': 70, 'cnj_second': 'LIFT', 'cnj_second_weight': 75, 'cnj_third': 'NOLIFT', 'cnj_third_weight': 80, 'bodyweight': 105.9, 'weight_category': 'W87+', 'team': 'NU', 'lottery_number': 29}\n",
      "3dAOgAg\n",
      "Lift created successfully\n",
      "\n",
      "\n",
      "659\n"
     ]
    }
   ],
   "source": [
    "start = 639\n",
    "interval = 20\n",
    "session_id = \"arDNGgQ\"\n",
    "\n",
    "create_athlete_lift(\n",
    "    start=start,\n",
    "    interval=interval, \n",
    "    table_text=table_text,\n",
    "    competition_id=competition_id,\n",
    "    session_id=session_id\n",
    "    )"
   ]
  },
  {
   "cell_type": "code",
   "execution_count": 84,
   "metadata": {},
   "outputs": [
    {
     "name": "stdout",
     "output_type": "stream",
     "text": [
      "['9'] ['34'] ['Lynch'] ['Manine'] ['F>87'] ['119.90'] ['Cook', 'Islands'] ['1999'] ['82'] ['86'] ['(90)'] ['86'] ['105'] ['(110)'] ['110'] ['110'] ['196'] ['1'] ['200.147'] ['177.169'] \n",
      "\n",
      "679\n"
     ]
    }
   ],
   "source": [
    "start = 659\n",
    "interval = 20\n",
    "session_id = \"arDNGgQ\"\n",
    "\n",
    "create_athlete_lift(\n",
    "    start=start,\n",
    "    interval=interval, \n",
    "    table_text=table_text,\n",
    "    competition_id=competition_id,\n",
    "    session_id=session_id\n",
    "    )"
   ]
  },
  {
   "cell_type": "code",
   "execution_count": 101,
   "metadata": {},
   "outputs": [
    {
     "name": "stdout",
     "output_type": "stream",
     "text": [
      "['1'] ['6'] ['Pomelile'] ['Joe'] ['M', '109'] ['108.90'] ['Tonga'] ['1993'] ['(135)'] ['135'] ['140'] ['140'] ['(173)'] ['(173)'] ['174'] ['174'] ['314'] ['3'] ['338.247'] ['338.649'] athlete already exists\n",
      "{'athlete_name': 'Joe Pomelile', 'snatch_first': 'NOLIFT', 'snatch_first_weight': 135, 'snatch_second': 'LIFT', 'snatch_second_weight': 135, 'snatch_third': 'LIFT', 'snatch_third_weight': 140, 'cnj_first': 'NOLIFT', 'cnj_first_weight': 173, 'cnj_second': 'NOLIFT', 'cnj_second_weight': 173, 'cnj_third': 'LIFT', 'cnj_third_weight': 174, 'bodyweight': 108.9, 'weight_category': 'M109', 'team': 'TO', 'lottery_number': 6}\n",
      "J5r95r6\n"
     ]
    },
    {
     "ename": "NotAllowedError",
     "evalue": "status code returned: 400",
     "output_type": "error",
     "traceback": [
      "\u001b[0;31m---------------------------------------------------------------------------\u001b[0m",
      "\u001b[0;31mNotAllowedError\u001b[0m                           Traceback (most recent call last)",
      "\u001b[1;32m/Users/shivan/Projects/ChristchurchCityWeightlifting/parsing-competition-results/parsing.ipynb Cell 49'\u001b[0m in \u001b[0;36m<cell line: 5>\u001b[0;34m()\u001b[0m\n\u001b[1;32m      <a href='vscode-notebook-cell:/Users/shivan/Projects/ChristchurchCityWeightlifting/parsing-competition-results/parsing.ipynb#ch0000064?line=1'>2</a>\u001b[0m interval \u001b[39m=\u001b[39m \u001b[39m20\u001b[39m\n\u001b[1;32m      <a href='vscode-notebook-cell:/Users/shivan/Projects/ChristchurchCityWeightlifting/parsing-competition-results/parsing.ipynb#ch0000064?line=2'>3</a>\u001b[0m session_id \u001b[39m=\u001b[39m \u001b[39m\"\u001b[39m\u001b[39m7agrADQ\u001b[39m\u001b[39m\"\u001b[39m\n\u001b[0;32m----> <a href='vscode-notebook-cell:/Users/shivan/Projects/ChristchurchCityWeightlifting/parsing-competition-results/parsing.ipynb#ch0000064?line=4'>5</a>\u001b[0m create_athlete_lift(\n\u001b[1;32m      <a href='vscode-notebook-cell:/Users/shivan/Projects/ChristchurchCityWeightlifting/parsing-competition-results/parsing.ipynb#ch0000064?line=5'>6</a>\u001b[0m     start\u001b[39m=\u001b[39;49mstart,\n\u001b[1;32m      <a href='vscode-notebook-cell:/Users/shivan/Projects/ChristchurchCityWeightlifting/parsing-competition-results/parsing.ipynb#ch0000064?line=6'>7</a>\u001b[0m     interval\u001b[39m=\u001b[39;49minterval, \n\u001b[1;32m      <a href='vscode-notebook-cell:/Users/shivan/Projects/ChristchurchCityWeightlifting/parsing-competition-results/parsing.ipynb#ch0000064?line=7'>8</a>\u001b[0m     table_text\u001b[39m=\u001b[39;49mtable_text,\n\u001b[1;32m      <a href='vscode-notebook-cell:/Users/shivan/Projects/ChristchurchCityWeightlifting/parsing-competition-results/parsing.ipynb#ch0000064?line=8'>9</a>\u001b[0m     competition_id\u001b[39m=\u001b[39;49mcompetition_id,\n\u001b[1;32m     <a href='vscode-notebook-cell:/Users/shivan/Projects/ChristchurchCityWeightlifting/parsing-competition-results/parsing.ipynb#ch0000064?line=9'>10</a>\u001b[0m     session_id\u001b[39m=\u001b[39;49msession_id\n\u001b[1;32m     <a href='vscode-notebook-cell:/Users/shivan/Projects/ChristchurchCityWeightlifting/parsing-competition-results/parsing.ipynb#ch0000064?line=10'>11</a>\u001b[0m     )\n",
      "\u001b[1;32m/Users/shivan/Projects/ChristchurchCityWeightlifting/parsing-competition-results/parsing.ipynb Cell 18'\u001b[0m in \u001b[0;36mcreate_athlete_lift\u001b[0;34m(start, interval, table_text, competition_id, session_id)\u001b[0m\n\u001b[1;32m     <a href='vscode-notebook-cell:/Users/shivan/Projects/ChristchurchCityWeightlifting/parsing-competition-results/parsing.ipynb#ch0000036?line=9'>10</a>\u001b[0m \u001b[39mif\u001b[39;00m \u001b[39minput\u001b[39m(\u001b[39mf\u001b[39m\u001b[39m\"\u001b[39m\u001b[39m{\u001b[39;00mlift_info\u001b[39m}\u001b[39;00m\u001b[39m\"\u001b[39m) \u001b[39m==\u001b[39m \u001b[39m\"\u001b[39m\u001b[39mY\u001b[39m\u001b[39m\"\u001b[39m:\n\u001b[1;32m     <a href='vscode-notebook-cell:/Users/shivan/Projects/ChristchurchCityWeightlifting/parsing-competition-results/parsing.ipynb#ch0000036?line=10'>11</a>\u001b[0m \u001b[39m# if True:\u001b[39;00m\n\u001b[1;32m     <a href='vscode-notebook-cell:/Users/shivan/Projects/ChristchurchCityWeightlifting/parsing-competition-results/parsing.ipynb#ch0000036?line=11'>12</a>\u001b[0m     create_athlete(\n\u001b[1;32m     <a href='vscode-notebook-cell:/Users/shivan/Projects/ChristchurchCityWeightlifting/parsing-competition-results/parsing.ipynb#ch0000036?line=12'>13</a>\u001b[0m         first_name\u001b[39m=\u001b[39mlift_info[\u001b[39m3\u001b[39m][\u001b[39m0\u001b[39m],\n\u001b[1;32m     <a href='vscode-notebook-cell:/Users/shivan/Projects/ChristchurchCityWeightlifting/parsing-competition-results/parsing.ipynb#ch0000036?line=13'>14</a>\u001b[0m         last_name\u001b[39m=\u001b[39mlift_info[\u001b[39m2\u001b[39m][\u001b[39m0\u001b[39m],\n\u001b[1;32m     <a href='vscode-notebook-cell:/Users/shivan/Projects/ChristchurchCityWeightlifting/parsing-competition-results/parsing.ipynb#ch0000036?line=14'>15</a>\u001b[0m         yearborn\u001b[39m=\u001b[39mlift_info[\u001b[39m7\u001b[39m][\u001b[39m0\u001b[39m],\n\u001b[1;32m     <a href='vscode-notebook-cell:/Users/shivan/Projects/ChristchurchCityWeightlifting/parsing-competition-results/parsing.ipynb#ch0000036?line=15'>16</a>\u001b[0m     )\n\u001b[0;32m---> <a href='vscode-notebook-cell:/Users/shivan/Projects/ChristchurchCityWeightlifting/parsing-competition-results/parsing.ipynb#ch0000036?line=16'>17</a>\u001b[0m     create_lift(competition_id\u001b[39m=\u001b[39;49mcompetition_id, session_id\u001b[39m=\u001b[39;49msession_id, lifts_data\u001b[39m=\u001b[39;49m[parse_lift(lift_info)])\n\u001b[1;32m     <a href='vscode-notebook-cell:/Users/shivan/Projects/ChristchurchCityWeightlifting/parsing-competition-results/parsing.ipynb#ch0000036?line=18'>19</a>\u001b[0m \u001b[39mprint\u001b[39m(\u001b[39m'\u001b[39m\u001b[39m\\n\u001b[39;00m\u001b[39m'\u001b[39m)\n\u001b[1;32m     <a href='vscode-notebook-cell:/Users/shivan/Projects/ChristchurchCityWeightlifting/parsing-competition-results/parsing.ipynb#ch0000036?line=19'>20</a>\u001b[0m \u001b[39mprint\u001b[39m(start\u001b[39m+\u001b[39minterval)\n",
      "\u001b[1;32m/Users/shivan/Projects/ChristchurchCityWeightlifting/parsing-competition-results/parsing.ipynb Cell 7'\u001b[0m in \u001b[0;36mcreate_lift\u001b[0;34m(competition_id, session_id, lifts_data)\u001b[0m\n\u001b[1;32m     <a href='vscode-notebook-cell:/Users/shivan/Projects/ChristchurchCityWeightlifting/parsing-competition-results/parsing.ipynb#ch0000007?line=10'>11</a>\u001b[0m \u001b[39mprint\u001b[39m(athlete[\u001b[39m'\u001b[39m\u001b[39mresults\u001b[39m\u001b[39m'\u001b[39m][\u001b[39m0\u001b[39m][\u001b[39m'\u001b[39m\u001b[39mreference_id\u001b[39m\u001b[39m'\u001b[39m])\n\u001b[1;32m     <a href='vscode-notebook-cell:/Users/shivan/Projects/ChristchurchCityWeightlifting/parsing-competition-results/parsing.ipynb#ch0000007?line=11'>12</a>\u001b[0m \u001b[39mif\u001b[39;00m athlete[\u001b[39m'\u001b[39m\u001b[39mcount\u001b[39m\u001b[39m'\u001b[39m] \u001b[39m==\u001b[39m \u001b[39m1\u001b[39m:\n\u001b[0;32m---> <a href='vscode-notebook-cell:/Users/shivan/Projects/ChristchurchCityWeightlifting/parsing-competition-results/parsing.ipynb#ch0000007?line=12'>13</a>\u001b[0m     api\u001b[39m.\u001b[39;49mcreate_lift(\n\u001b[1;32m     <a href='vscode-notebook-cell:/Users/shivan/Projects/ChristchurchCityWeightlifting/parsing-competition-results/parsing.ipynb#ch0000007?line=13'>14</a>\u001b[0m         competition_id\u001b[39m=\u001b[39;49mcompetition_id,\n\u001b[1;32m     <a href='vscode-notebook-cell:/Users/shivan/Projects/ChristchurchCityWeightlifting/parsing-competition-results/parsing.ipynb#ch0000007?line=14'>15</a>\u001b[0m         session_id\u001b[39m=\u001b[39;49msession_id,\n\u001b[1;32m     <a href='vscode-notebook-cell:/Users/shivan/Projects/ChristchurchCityWeightlifting/parsing-competition-results/parsing.ipynb#ch0000007?line=15'>16</a>\u001b[0m         athlete_id\u001b[39m=\u001b[39;49mathlete[\u001b[39m'\u001b[39;49m\u001b[39mresults\u001b[39;49m\u001b[39m'\u001b[39;49m][\u001b[39m0\u001b[39;49m][\u001b[39m'\u001b[39;49m\u001b[39mreference_id\u001b[39;49m\u001b[39m'\u001b[39;49m],\n\u001b[1;32m     <a href='vscode-notebook-cell:/Users/shivan/Projects/ChristchurchCityWeightlifting/parsing-competition-results/parsing.ipynb#ch0000007?line=16'>17</a>\u001b[0m         snatch_first\u001b[39m=\u001b[39;49mlift[\u001b[39m'\u001b[39;49m\u001b[39msnatch_first\u001b[39;49m\u001b[39m'\u001b[39;49m],\n\u001b[1;32m     <a href='vscode-notebook-cell:/Users/shivan/Projects/ChristchurchCityWeightlifting/parsing-competition-results/parsing.ipynb#ch0000007?line=17'>18</a>\u001b[0m         snatch_first_weight\u001b[39m=\u001b[39;49mlift[\u001b[39m'\u001b[39;49m\u001b[39msnatch_first_weight\u001b[39;49m\u001b[39m'\u001b[39;49m],\n\u001b[1;32m     <a href='vscode-notebook-cell:/Users/shivan/Projects/ChristchurchCityWeightlifting/parsing-competition-results/parsing.ipynb#ch0000007?line=18'>19</a>\u001b[0m         snatch_second\u001b[39m=\u001b[39;49mlift[\u001b[39m'\u001b[39;49m\u001b[39msnatch_second\u001b[39;49m\u001b[39m'\u001b[39;49m],\n\u001b[1;32m     <a href='vscode-notebook-cell:/Users/shivan/Projects/ChristchurchCityWeightlifting/parsing-competition-results/parsing.ipynb#ch0000007?line=19'>20</a>\u001b[0m         snatch_second_weight\u001b[39m=\u001b[39;49mlift[\u001b[39m'\u001b[39;49m\u001b[39msnatch_second_weight\u001b[39;49m\u001b[39m'\u001b[39;49m],\n\u001b[1;32m     <a href='vscode-notebook-cell:/Users/shivan/Projects/ChristchurchCityWeightlifting/parsing-competition-results/parsing.ipynb#ch0000007?line=20'>21</a>\u001b[0m         snatch_third\u001b[39m=\u001b[39;49mlift[\u001b[39m'\u001b[39;49m\u001b[39msnatch_third\u001b[39;49m\u001b[39m'\u001b[39;49m],\n\u001b[1;32m     <a href='vscode-notebook-cell:/Users/shivan/Projects/ChristchurchCityWeightlifting/parsing-competition-results/parsing.ipynb#ch0000007?line=21'>22</a>\u001b[0m         snatch_third_weight\u001b[39m=\u001b[39;49mlift[\u001b[39m'\u001b[39;49m\u001b[39msnatch_third_weight\u001b[39;49m\u001b[39m'\u001b[39;49m],\n\u001b[1;32m     <a href='vscode-notebook-cell:/Users/shivan/Projects/ChristchurchCityWeightlifting/parsing-competition-results/parsing.ipynb#ch0000007?line=22'>23</a>\u001b[0m         cnj_first\u001b[39m=\u001b[39;49mlift[\u001b[39m'\u001b[39;49m\u001b[39mcnj_first\u001b[39;49m\u001b[39m'\u001b[39;49m],\n\u001b[1;32m     <a href='vscode-notebook-cell:/Users/shivan/Projects/ChristchurchCityWeightlifting/parsing-competition-results/parsing.ipynb#ch0000007?line=23'>24</a>\u001b[0m         cnj_first_weight\u001b[39m=\u001b[39;49mlift[\u001b[39m'\u001b[39;49m\u001b[39mcnj_first_weight\u001b[39;49m\u001b[39m'\u001b[39;49m],\n\u001b[1;32m     <a href='vscode-notebook-cell:/Users/shivan/Projects/ChristchurchCityWeightlifting/parsing-competition-results/parsing.ipynb#ch0000007?line=24'>25</a>\u001b[0m         cnj_second\u001b[39m=\u001b[39;49mlift[\u001b[39m'\u001b[39;49m\u001b[39mcnj_second\u001b[39;49m\u001b[39m'\u001b[39;49m],\n\u001b[1;32m     <a href='vscode-notebook-cell:/Users/shivan/Projects/ChristchurchCityWeightlifting/parsing-competition-results/parsing.ipynb#ch0000007?line=25'>26</a>\u001b[0m         cnj_second_weight\u001b[39m=\u001b[39;49mlift[\u001b[39m'\u001b[39;49m\u001b[39mcnj_second_weight\u001b[39;49m\u001b[39m'\u001b[39;49m],\n\u001b[1;32m     <a href='vscode-notebook-cell:/Users/shivan/Projects/ChristchurchCityWeightlifting/parsing-competition-results/parsing.ipynb#ch0000007?line=26'>27</a>\u001b[0m         cnj_third\u001b[39m=\u001b[39;49mlift[\u001b[39m'\u001b[39;49m\u001b[39mcnj_third\u001b[39;49m\u001b[39m'\u001b[39;49m],\n\u001b[1;32m     <a href='vscode-notebook-cell:/Users/shivan/Projects/ChristchurchCityWeightlifting/parsing-competition-results/parsing.ipynb#ch0000007?line=27'>28</a>\u001b[0m         cnj_third_weight\u001b[39m=\u001b[39;49mlift[\u001b[39m'\u001b[39;49m\u001b[39mcnj_third_weight\u001b[39;49m\u001b[39m'\u001b[39;49m],\n\u001b[1;32m     <a href='vscode-notebook-cell:/Users/shivan/Projects/ChristchurchCityWeightlifting/parsing-competition-results/parsing.ipynb#ch0000007?line=28'>29</a>\u001b[0m         bodyweight\u001b[39m=\u001b[39;49mlift[\u001b[39m'\u001b[39;49m\u001b[39mbodyweight\u001b[39;49m\u001b[39m'\u001b[39;49m],\n\u001b[1;32m     <a href='vscode-notebook-cell:/Users/shivan/Projects/ChristchurchCityWeightlifting/parsing-competition-results/parsing.ipynb#ch0000007?line=29'>30</a>\u001b[0m         weight_category\u001b[39m=\u001b[39;49mlift[\u001b[39m'\u001b[39;49m\u001b[39mweight_category\u001b[39;49m\u001b[39m'\u001b[39;49m],\n\u001b[1;32m     <a href='vscode-notebook-cell:/Users/shivan/Projects/ChristchurchCityWeightlifting/parsing-competition-results/parsing.ipynb#ch0000007?line=30'>31</a>\u001b[0m         team\u001b[39m=\u001b[39;49mlift[\u001b[39m'\u001b[39;49m\u001b[39mteam\u001b[39;49m\u001b[39m'\u001b[39;49m],\n\u001b[1;32m     <a href='vscode-notebook-cell:/Users/shivan/Projects/ChristchurchCityWeightlifting/parsing-competition-results/parsing.ipynb#ch0000007?line=31'>32</a>\u001b[0m         lottery_number\u001b[39m=\u001b[39;49mlift[\u001b[39m'\u001b[39;49m\u001b[39mlottery_number\u001b[39;49m\u001b[39m'\u001b[39;49m],\n\u001b[1;32m     <a href='vscode-notebook-cell:/Users/shivan/Projects/ChristchurchCityWeightlifting/parsing-competition-results/parsing.ipynb#ch0000007?line=32'>33</a>\u001b[0m         )\n\u001b[1;32m     <a href='vscode-notebook-cell:/Users/shivan/Projects/ChristchurchCityWeightlifting/parsing-competition-results/parsing.ipynb#ch0000007?line=33'>34</a>\u001b[0m     \u001b[39mprint\u001b[39m(\u001b[39m\"\u001b[39m\u001b[39mLift created successfully\u001b[39m\u001b[39m\"\u001b[39m)\n\u001b[1;32m     <a href='vscode-notebook-cell:/Users/shivan/Projects/ChristchurchCityWeightlifting/parsing-competition-results/parsing.ipynb#ch0000007?line=34'>35</a>\u001b[0m \u001b[39melif\u001b[39;00m athlete[\u001b[39m'\u001b[39m\u001b[39mcount\u001b[39m\u001b[39m'\u001b[39m] \u001b[39m>\u001b[39m \u001b[39m1\u001b[39m:\n",
      "File \u001b[0;32m~/.local/share/virtualenvs/parsing-competition-results-GV5wa2qq/lib/python3.10/site-packages/lifter_api/lifter_api.py:748\u001b[0m, in \u001b[0;36mLifterAPI.create_lift\u001b[0;34m(self, competition_id, session_id, athlete_id, snatch_first, snatch_first_weight, snatch_second, snatch_second_weight, snatch_third, snatch_third_weight, cnj_first, cnj_first_weight, cnj_second, cnj_second_weight, cnj_third, cnj_third_weight, bodyweight, weight_category, team, lottery_number)\u001b[0m\n\u001b[1;32m    <a href='file:///Users/shivan/.local/share/virtualenvs/parsing-competition-results-GV5wa2qq/lib/python3.10/site-packages/lifter_api/lifter_api.py?line=722'>723</a>\u001b[0m response \u001b[39m=\u001b[39m requests\u001b[39m.\u001b[39mpost(\n\u001b[1;32m    <a href='file:///Users/shivan/.local/share/virtualenvs/parsing-competition-results-GV5wa2qq/lib/python3.10/site-packages/lifter_api/lifter_api.py?line=723'>724</a>\u001b[0m     \u001b[39mf\u001b[39m\u001b[39m\"\u001b[39m\u001b[39m{\u001b[39;00m\u001b[39mself\u001b[39m\u001b[39m.\u001b[39m_url\u001b[39m}\u001b[39;00m\u001b[39m/\u001b[39m\u001b[39m{\u001b[39;00m\u001b[39mself\u001b[39m\u001b[39m.\u001b[39m_version\u001b[39m}\u001b[39;00m\u001b[39m/competitions/\u001b[39m\u001b[39m{\u001b[39;00mcompetition_id\u001b[39m}\u001b[39;00m\u001b[39m/sessions/\u001b[39m\u001b[39m{\u001b[39;00msession_id\u001b[39m}\u001b[39;00m\u001b[39m/lifts\u001b[39m\u001b[39m\"\u001b[39m,\n\u001b[1;32m    <a href='file:///Users/shivan/.local/share/virtualenvs/parsing-competition-results-GV5wa2qq/lib/python3.10/site-packages/lifter_api/lifter_api.py?line=724'>725</a>\u001b[0m     headers\u001b[39m=\u001b[39m\u001b[39mself\u001b[39m\u001b[39m.\u001b[39m_provide_authorization_header(),\n\u001b[0;32m   (...)\u001b[0m\n\u001b[1;32m    <a href='file:///Users/shivan/.local/share/virtualenvs/parsing-competition-results-GV5wa2qq/lib/python3.10/site-packages/lifter_api/lifter_api.py?line=744'>745</a>\u001b[0m     },\n\u001b[1;32m    <a href='file:///Users/shivan/.local/share/virtualenvs/parsing-competition-results-GV5wa2qq/lib/python3.10/site-packages/lifter_api/lifter_api.py?line=745'>746</a>\u001b[0m )\n\u001b[1;32m    <a href='file:///Users/shivan/.local/share/virtualenvs/parsing-competition-results-GV5wa2qq/lib/python3.10/site-packages/lifter_api/lifter_api.py?line=746'>747</a>\u001b[0m \u001b[39mif\u001b[39;00m response\u001b[39m.\u001b[39mstatus_code \u001b[39mnot\u001b[39;00m \u001b[39min\u001b[39;00m [\u001b[39m201\u001b[39m, \u001b[39m200\u001b[39m, \u001b[39m403\u001b[39m, \u001b[39m401\u001b[39m, \u001b[39m404\u001b[39m]:\n\u001b[0;32m--> <a href='file:///Users/shivan/.local/share/virtualenvs/parsing-competition-results-GV5wa2qq/lib/python3.10/site-packages/lifter_api/lifter_api.py?line=747'>748</a>\u001b[0m     \u001b[39mraise\u001b[39;00m NotAllowedError(\n\u001b[1;32m    <a href='file:///Users/shivan/.local/share/virtualenvs/parsing-competition-results-GV5wa2qq/lib/python3.10/site-packages/lifter_api/lifter_api.py?line=748'>749</a>\u001b[0m         message\u001b[39m=\u001b[39m\u001b[39mf\u001b[39m\u001b[39m\"\u001b[39m\u001b[39mstatus code returned: \u001b[39m\u001b[39m{\u001b[39;00mresponse\u001b[39m.\u001b[39mstatus_code\u001b[39m}\u001b[39;00m\u001b[39m\"\u001b[39m\n\u001b[1;32m    <a href='file:///Users/shivan/.local/share/virtualenvs/parsing-competition-results-GV5wa2qq/lib/python3.10/site-packages/lifter_api/lifter_api.py?line=749'>750</a>\u001b[0m     )\n\u001b[1;32m    <a href='file:///Users/shivan/.local/share/virtualenvs/parsing-competition-results-GV5wa2qq/lib/python3.10/site-packages/lifter_api/lifter_api.py?line=750'>751</a>\u001b[0m \u001b[39mif\u001b[39;00m \u001b[39mself\u001b[39m\u001b[39m.\u001b[39mget_athlete(athlete_id\u001b[39m=\u001b[39mathlete_id) \u001b[39m==\u001b[39m {\n\u001b[1;32m    <a href='file:///Users/shivan/.local/share/virtualenvs/parsing-competition-results-GV5wa2qq/lib/python3.10/site-packages/lifter_api/lifter_api.py?line=751'>752</a>\u001b[0m     \u001b[39m\"\u001b[39m\u001b[39mdetail\u001b[39m\u001b[39m\"\u001b[39m: \u001b[39m\"\u001b[39m\u001b[39mAthlete does not exist.\u001b[39m\u001b[39m\"\u001b[39m\n\u001b[1;32m    <a href='file:///Users/shivan/.local/share/virtualenvs/parsing-competition-results-GV5wa2qq/lib/python3.10/site-packages/lifter_api/lifter_api.py?line=752'>753</a>\u001b[0m }:\n\u001b[1;32m    <a href='file:///Users/shivan/.local/share/virtualenvs/parsing-competition-results-GV5wa2qq/lib/python3.10/site-packages/lifter_api/lifter_api.py?line=753'>754</a>\u001b[0m     \u001b[39mreturn\u001b[39;00m \u001b[39mself\u001b[39m\u001b[39m.\u001b[39mget_athlete(athlete_id\u001b[39m=\u001b[39mathlete_id)\n",
      "\u001b[0;31mNotAllowedError\u001b[0m: status code returned: 400"
     ]
    }
   ],
   "source": [
    "# had to enter this manually??\n",
    "\n",
    "start = 705\n",
    "interval = 20\n",
    "session_id = \"7agrADQ\"\n",
    "\n",
    "create_athlete_lift(\n",
    "    start=start,\n",
    "    interval=interval, \n",
    "    table_text=table_text,\n",
    "    competition_id=competition_id,\n",
    "    session_id=session_id\n",
    "    )"
   ]
  },
  {
   "cell_type": "code",
   "execution_count": 103,
   "metadata": {},
   "outputs": [
    {
     "name": "stdout",
     "output_type": "stream",
     "text": [
      "['2'] ['12'] ['Jordan'] ['Robert'] ['M', '109'] ['101.00'] ['Guest'] ['1986'] ['125'] ['128'] ['(136)'] ['128'] ['155'] ['162'] ['(170)'] ['162'] ['290'] ['4'] ['320.406'] ['311.465'] athlete created Robert Jordan\n",
      "{'athlete_name': 'Robert Jordan', 'snatch_first': 'LIFT', 'snatch_first_weight': 125, 'snatch_second': 'LIFT', 'snatch_second_weight': 128, 'snatch_third': 'NOLIFT', 'snatch_third_weight': 136, 'cnj_first': 'LIFT', 'cnj_first_weight': 155, 'cnj_second': 'LIFT', 'cnj_second_weight': 162, 'cnj_third': 'NOLIFT', 'cnj_third_weight': 170, 'bodyweight': 101.0, 'weight_category': 'M109', 'team': 'NZ', 'lottery_number': 12}\n",
      "5gNm3ra\n",
      "Lift created successfully\n",
      "\n",
      "\n",
      "745\n"
     ]
    }
   ],
   "source": [
    "start = 725\n",
    "interval = 20\n",
    "session_id = \"7agrADQ\"\n",
    "\n",
    "create_athlete_lift(\n",
    "    start=start,\n",
    "    interval=interval, \n",
    "    table_text=table_text,\n",
    "    competition_id=competition_id,\n",
    "    session_id=session_id\n",
    "    )"
   ]
  },
  {
   "cell_type": "code",
   "execution_count": 102,
   "metadata": {},
   "outputs": [
    {
     "name": "stdout",
     "output_type": "stream",
     "text": [
      "['3'] ['13'] ['Tasi', 'Taala'] ['Koale', 'Junior'] ['M', '109'] ['109.00'] ['New', 'Zealand'] ['1995'] ['135'] ['143'] ['(155)'] ['143'] ['178'] ['185'] ['192'] ['192'] ['335'] ['1'] ['360.765'] ['419.900'] athlete created Koale Tasi\n",
      "{'athlete_name': 'Koale Tasi', 'snatch_first': 'LIFT', 'snatch_first_weight': 135, 'snatch_second': 'LIFT', 'snatch_second_weight': 143, 'snatch_third': 'NOLIFT', 'snatch_third_weight': 155, 'cnj_first': 'LIFT', 'cnj_first_weight': 178, 'cnj_second': 'LIFT', 'cnj_second_weight': 185, 'cnj_third': 'LIFT', 'cnj_third_weight': 192, 'bodyweight': 109.0, 'weight_category': 'M109', 'team': 'NZ', 'lottery_number': 13}\n",
      "RwNzWYL\n",
      "Lift created successfully\n",
      "\n",
      "\n",
      "765\n"
     ]
    }
   ],
   "source": [
    "start = 745\n",
    "interval = 20\n",
    "session_id = \"7agrADQ\"\n",
    "\n",
    "create_athlete_lift(\n",
    "    start=start,\n",
    "    interval=interval,\n",
    "    table_text=table_text,\n",
    "    competition_id=competition_id,\n",
    "    session_id=session_id\n",
    "    )"
   ]
  },
  {
   "cell_type": "code",
   "execution_count": 104,
   "metadata": {},
   "outputs": [
    {
     "name": "stdout",
     "output_type": "stream",
     "text": [
      "['4'] ['20'] ['Vakuruivalu'] ['Timothy'] ['M', '109'] ['102.60'] ['Fiji'] ['1999'] ['110'] ['115'] ['(118)'] ['115'] ['135'] ['(140)'] ['(143)'] ['135'] ['250'] ['5'] ['274.672'] ['158.823'] athlete created Timothy Vakuruivalu\n",
      "{'athlete_name': 'Timothy Vakuruivalu', 'snatch_first': 'LIFT', 'snatch_first_weight': 110, 'snatch_second': 'LIFT', 'snatch_second_weight': 115, 'snatch_third': 'NOLIFT', 'snatch_third_weight': 118, 'cnj_first': 'LIFT', 'cnj_first_weight': 135, 'cnj_second': 'NOLIFT', 'cnj_second_weight': 140, 'cnj_third': 'NOLIFT', 'cnj_third_weight': 143, 'bodyweight': 102.6, 'weight_category': 'M109', 'team': 'NZ', 'lottery_number': 20}\n",
      "aWAkmY1\n",
      "Lift created successfully\n",
      "\n",
      "\n",
      "785\n"
     ]
    }
   ],
   "source": [
    "start = 765\n",
    "interval = 20\n",
    "session_id = \"7agrADQ\"\n",
    "\n",
    "create_athlete_lift(\n",
    "    start=start,\n",
    "    interval=interval, \n",
    "    table_text=table_text,\n",
    "    competition_id=competition_id,\n",
    "    session_id=session_id\n",
    "    )"
   ]
  },
  {
   "cell_type": "code",
   "execution_count": 107,
   "metadata": {},
   "outputs": [
    {
     "name": "stdout",
     "output_type": "stream",
     "text": [
      "['5'] ['26'] ['Leuo'] ['Siaosi'] ['M', '109'] ['108.80'] ['New', 'Zealand'] ['1992'] ['130'] ['135'] ['(140)'] ['135'] ['(180)'] ['181'] ['(186)'] ['181'] ['316'] ['2'] ['340.499'] ['345.867'] athlete created Siaosi Leuo\n",
      "{'athlete_name': 'Siaosi Leuo', 'snatch_first': 'LIFT', 'snatch_first_weight': 130, 'snatch_second': 'LIFT', 'snatch_second_weight': 135, 'snatch_third': 'NOLIFT', 'snatch_third_weight': 140, 'cnj_first': 'NOLIFT', 'cnj_first_weight': 180, 'cnj_second': 'LIFT', 'cnj_second_weight': 181, 'cnj_third': 'NOLIFT', 'cnj_third_weight': 186, 'bodyweight': 108.8, 'weight_category': 'M109', 'team': 'NZ', 'lottery_number': 26}\n",
      "zYxVnAG\n",
      "Lift created successfully\n",
      "\n",
      "\n",
      "805\n"
     ]
    }
   ],
   "source": [
    "start = 785\n",
    "interval = 20\n",
    "session_id = \"7agrADQ\"\n",
    "\n",
    "create_athlete_lift(\n",
    "    start=start,\n",
    "    interval=interval, \n",
    "    table_text=table_text,\n",
    "    competition_id=competition_id,\n",
    "    session_id=session_id\n",
    "    )"
   ]
  },
  {
   "cell_type": "code",
   "execution_count": 109,
   "metadata": {},
   "outputs": [
    {
     "name": "stdout",
     "output_type": "stream",
     "text": [
      "['6'] ['14'] ['Toimata'] ['Gio'] ['M>109'] ['112.90'] ['Niue'] ['1992'] ['100'] ['105'] ['110'] ['110'] ['130'] ['140'] ['146'] ['146'] ['256'] ['2'] ['272.800'] ['120.542'] athlete created Gio Toimata\n",
      "{'athlete_name': 'Gio Toimata', 'snatch_first': 'LIFT', 'snatch_first_weight': 100, 'snatch_second': 'LIFT', 'snatch_second_weight': 105, 'snatch_third': 'LIFT', 'snatch_third_weight': 110, 'cnj_first': 'LIFT', 'cnj_first_weight': 130, 'cnj_second': 'LIFT', 'cnj_second_weight': 140, 'cnj_third': 'LIFT', 'cnj_third_weight': 146, 'bodyweight': 112.9, 'weight_category': 'M109+', 'team': 'NU', 'lottery_number': 14}\n",
      "gA5xxr0\n",
      "Lift created successfully\n",
      "\n",
      "\n",
      "826\n"
     ]
    }
   ],
   "source": [
    "start = 806\n",
    "interval = 20\n",
    "session_id = \"7agrADQ\"\n",
    "\n",
    "create_athlete_lift(\n",
    "    start=start,\n",
    "    interval=interval, \n",
    "    table_text=table_text,\n",
    "    competition_id=competition_id,\n",
    "    session_id=session_id\n",
    "    )"
   ]
  },
  {
   "cell_type": "code",
   "execution_count": 110,
   "metadata": {},
   "outputs": [
    {
     "name": "stdout",
     "output_type": "stream",
     "text": [
      "['7'] ['22'] ['Faamausili-Fala'] ['Malachi'] ['M >109'] ['130.60'] ['New', 'Zealand'] ['2001'] ['(150)'] ['150'] ['(155)'] ['150'] ['(170)'] ['171'] ['180'] ['180'] ['330'] ['1'] ['339.549'] ['280.194'] athlete created Malachi Faamausili-Fala\n",
      "{'athlete_name': 'Malachi Faamausili-Fala', 'snatch_first': 'NOLIFT', 'snatch_first_weight': 150, 'snatch_second': 'LIFT', 'snatch_second_weight': 150, 'snatch_third': 'NOLIFT', 'snatch_third_weight': 155, 'cnj_first': 'NOLIFT', 'cnj_first_weight': 170, 'cnj_second': 'LIFT', 'cnj_second_weight': 171, 'cnj_third': 'LIFT', 'cnj_third_weight': 180, 'bodyweight': 130.6, 'weight_category': 'M109+', 'team': 'NZ', 'lottery_number': 22}\n",
      "vrWL2Ap\n",
      "Lift created successfully\n",
      "\n",
      "\n",
      "846\n"
     ]
    }
   ],
   "source": [
    "start = 826\n",
    "interval = 20\n",
    "session_id = \"7agrADQ\"\n",
    "\n",
    "create_athlete_lift(\n",
    "    start=start,\n",
    "    interval=interval, \n",
    "    table_text=table_text,\n",
    "    competition_id=competition_id,\n",
    "    session_id=session_id\n",
    "    )"
   ]
  },
  {
   "cell_type": "code",
   "execution_count": 111,
   "metadata": {},
   "outputs": [
    {
     "name": "stdout",
     "output_type": "stream",
     "text": [
      "\n",
      "\n",
      "866\n"
     ]
    }
   ],
   "source": [
    "start = 846\n",
    "interval = 20\n",
    "session_id = \"7agrADQ\"\n",
    "\n",
    "create_athlete_lift(\n",
    "    start=start,\n",
    "    interval=interval, \n",
    "    table_text=table_text,\n",
    "    competition_id=competition_id,\n",
    "    session_id=session_id\n",
    "    )"
   ]
  },
  {
   "cell_type": "code",
   "execution_count": null,
   "metadata": {},
   "outputs": [],
   "source": [
    "# END"
   ]
  }
 ],
 "metadata": {
  "interpreter": {
   "hash": "22dea46cf54044bf46da9eb340fd43ed473269909bb6d1073363f9ede460c749"
  },
  "kernelspec": {
   "display_name": "Python 3.8.12 ('parsing-competition-results')",
   "language": "python",
   "name": "python3"
  },
  "language_info": {
   "codemirror_mode": {
    "name": "ipython",
    "version": 3
   },
   "file_extension": ".py",
   "mimetype": "text/x-python",
   "name": "python",
   "nbconvert_exporter": "python",
   "pygments_lexer": "ipython3",
   "version": "3.10.0"
  },
  "orig_nbformat": 4
 },
 "nbformat": 4,
 "nbformat_minor": 2
}
